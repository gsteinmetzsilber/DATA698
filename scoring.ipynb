{
  "nbformat": 4,
  "nbformat_minor": 0,
  "metadata": {
    "colab": {
      "provenance": []
    },
    "kernelspec": {
      "name": "python3",
      "display_name": "Python 3"
    },
    "language_info": {
      "name": "python"
    }
  },
  "cells": [
    {
      "cell_type": "markdown",
      "source": [
        "## Introduction\n",
        "\n",
        "In this notebook, the predictions from the various models will be scored. The key metric is Quadratic Weighted Kappa which measures the agreement between two raters. I will also create histograms and confusion matrices for each essay set's predictions--some of these visualizations will be used in the paper. I begin with the predictions of the persuasive essay scores before moving to the source-dependent and then narrative essays.\n",
        "\n",
        "## Persuasive essays\n",
        "\n",
        "I first read the CSV files. Then, a small adjustment needs to be made. The range for the persuasive predictions was accidentally 0 to 5 when it should have been 1 to 6. In other words, the range is correct, but all the predictions have to be incremented by 1--easy enough to implement."
      ],
      "metadata": {
        "id": "86b_nqRPMIfY"
      }
    },
    {
      "cell_type": "code",
      "execution_count": 1,
      "metadata": {
        "colab": {
          "base_uri": "https://localhost:8080/"
        },
        "id": "NSROxMXB9Wt9",
        "outputId": "e9fe4516-9a7a-4201-98c2-829f66c4a3b4"
      },
      "outputs": [
        {
          "output_type": "stream",
          "name": "stdout",
          "text": [
            "Collecting boto3\n",
            "  Downloading boto3-1.34.103-py3-none-any.whl (139 kB)\n",
            "\u001b[2K     \u001b[90m━━━━━━━━━━━━━━━━━━━━━━━━━━━━━━━━━━━━━━━━\u001b[0m \u001b[32m139.3/139.3 kB\u001b[0m \u001b[31m1.2 MB/s\u001b[0m eta \u001b[36m0:00:00\u001b[0m\n",
            "\u001b[?25hCollecting botocore<1.35.0,>=1.34.103 (from boto3)\n",
            "  Downloading botocore-1.34.103-py3-none-any.whl (12.2 MB)\n",
            "\u001b[2K     \u001b[90m━━━━━━━━━━━━━━━━━━━━━━━━━━━━━━━━━━━━━━━━\u001b[0m \u001b[32m12.2/12.2 MB\u001b[0m \u001b[31m15.0 MB/s\u001b[0m eta \u001b[36m0:00:00\u001b[0m\n",
            "\u001b[?25hCollecting jmespath<2.0.0,>=0.7.1 (from boto3)\n",
            "  Downloading jmespath-1.0.1-py3-none-any.whl (20 kB)\n",
            "Collecting s3transfer<0.11.0,>=0.10.0 (from boto3)\n",
            "  Downloading s3transfer-0.10.1-py3-none-any.whl (82 kB)\n",
            "\u001b[2K     \u001b[90m━━━━━━━━━━━━━━━━━━━━━━━━━━━━━━━━━━━━━━━━\u001b[0m \u001b[32m82.2/82.2 kB\u001b[0m \u001b[31m4.2 MB/s\u001b[0m eta \u001b[36m0:00:00\u001b[0m\n",
            "\u001b[?25hRequirement already satisfied: python-dateutil<3.0.0,>=2.1 in /usr/local/lib/python3.10/dist-packages (from botocore<1.35.0,>=1.34.103->boto3) (2.8.2)\n",
            "Requirement already satisfied: urllib3!=2.2.0,<3,>=1.25.4 in /usr/local/lib/python3.10/dist-packages (from botocore<1.35.0,>=1.34.103->boto3) (2.0.7)\n",
            "Requirement already satisfied: six>=1.5 in /usr/local/lib/python3.10/dist-packages (from python-dateutil<3.0.0,>=2.1->botocore<1.35.0,>=1.34.103->boto3) (1.16.0)\n",
            "Installing collected packages: jmespath, botocore, s3transfer, boto3\n",
            "Successfully installed boto3-1.34.103 botocore-1.34.103 jmespath-1.0.1 s3transfer-0.10.1\n",
            "Collecting s3fs\n",
            "  Downloading s3fs-2024.3.1-py3-none-any.whl (29 kB)\n",
            "Collecting aiobotocore<3.0.0,>=2.5.4 (from s3fs)\n",
            "  Downloading aiobotocore-2.12.3-py3-none-any.whl (76 kB)\n",
            "\u001b[2K     \u001b[90m━━━━━━━━━━━━━━━━━━━━━━━━━━━━━━━━━━━━━━━━\u001b[0m \u001b[32m76.5/76.5 kB\u001b[0m \u001b[31m3.8 MB/s\u001b[0m eta \u001b[36m0:00:00\u001b[0m\n",
            "\u001b[?25hCollecting fsspec==2024.3.1 (from s3fs)\n",
            "  Downloading fsspec-2024.3.1-py3-none-any.whl (171 kB)\n",
            "\u001b[2K     \u001b[90m━━━━━━━━━━━━━━━━━━━━━━━━━━━━━━━━━━━━━━━━\u001b[0m \u001b[32m172.0/172.0 kB\u001b[0m \u001b[31m11.9 MB/s\u001b[0m eta \u001b[36m0:00:00\u001b[0m\n",
            "\u001b[?25hRequirement already satisfied: aiohttp!=4.0.0a0,!=4.0.0a1 in /usr/local/lib/python3.10/dist-packages (from s3fs) (3.9.5)\n",
            "Collecting botocore<1.34.70,>=1.34.41 (from aiobotocore<3.0.0,>=2.5.4->s3fs)\n",
            "  Downloading botocore-1.34.69-py3-none-any.whl (12.0 MB)\n",
            "\u001b[2K     \u001b[90m━━━━━━━━━━━━━━━━━━━━━━━━━━━━━━━━━━━━━━━━\u001b[0m \u001b[32m12.0/12.0 MB\u001b[0m \u001b[31m77.4 MB/s\u001b[0m eta \u001b[36m0:00:00\u001b[0m\n",
            "\u001b[?25hRequirement already satisfied: wrapt<2.0.0,>=1.10.10 in /usr/local/lib/python3.10/dist-packages (from aiobotocore<3.0.0,>=2.5.4->s3fs) (1.14.1)\n",
            "Collecting aioitertools<1.0.0,>=0.5.1 (from aiobotocore<3.0.0,>=2.5.4->s3fs)\n",
            "  Downloading aioitertools-0.11.0-py3-none-any.whl (23 kB)\n",
            "Requirement already satisfied: aiosignal>=1.1.2 in /usr/local/lib/python3.10/dist-packages (from aiohttp!=4.0.0a0,!=4.0.0a1->s3fs) (1.3.1)\n",
            "Requirement already satisfied: attrs>=17.3.0 in /usr/local/lib/python3.10/dist-packages (from aiohttp!=4.0.0a0,!=4.0.0a1->s3fs) (23.2.0)\n",
            "Requirement already satisfied: frozenlist>=1.1.1 in /usr/local/lib/python3.10/dist-packages (from aiohttp!=4.0.0a0,!=4.0.0a1->s3fs) (1.4.1)\n",
            "Requirement already satisfied: multidict<7.0,>=4.5 in /usr/local/lib/python3.10/dist-packages (from aiohttp!=4.0.0a0,!=4.0.0a1->s3fs) (6.0.5)\n",
            "Requirement already satisfied: yarl<2.0,>=1.0 in /usr/local/lib/python3.10/dist-packages (from aiohttp!=4.0.0a0,!=4.0.0a1->s3fs) (1.9.4)\n",
            "Requirement already satisfied: async-timeout<5.0,>=4.0 in /usr/local/lib/python3.10/dist-packages (from aiohttp!=4.0.0a0,!=4.0.0a1->s3fs) (4.0.3)\n",
            "Requirement already satisfied: jmespath<2.0.0,>=0.7.1 in /usr/local/lib/python3.10/dist-packages (from botocore<1.34.70,>=1.34.41->aiobotocore<3.0.0,>=2.5.4->s3fs) (1.0.1)\n",
            "Requirement already satisfied: python-dateutil<3.0.0,>=2.1 in /usr/local/lib/python3.10/dist-packages (from botocore<1.34.70,>=1.34.41->aiobotocore<3.0.0,>=2.5.4->s3fs) (2.8.2)\n",
            "Requirement already satisfied: urllib3!=2.2.0,<3,>=1.25.4 in /usr/local/lib/python3.10/dist-packages (from botocore<1.34.70,>=1.34.41->aiobotocore<3.0.0,>=2.5.4->s3fs) (2.0.7)\n",
            "Requirement already satisfied: idna>=2.0 in /usr/local/lib/python3.10/dist-packages (from yarl<2.0,>=1.0->aiohttp!=4.0.0a0,!=4.0.0a1->s3fs) (3.7)\n",
            "Requirement already satisfied: six>=1.5 in /usr/local/lib/python3.10/dist-packages (from python-dateutil<3.0.0,>=2.1->botocore<1.34.70,>=1.34.41->aiobotocore<3.0.0,>=2.5.4->s3fs) (1.16.0)\n",
            "Installing collected packages: fsspec, aioitertools, botocore, aiobotocore, s3fs\n",
            "  Attempting uninstall: fsspec\n",
            "    Found existing installation: fsspec 2023.6.0\n",
            "    Uninstalling fsspec-2023.6.0:\n",
            "      Successfully uninstalled fsspec-2023.6.0\n",
            "  Attempting uninstall: botocore\n",
            "    Found existing installation: botocore 1.34.103\n",
            "    Uninstalling botocore-1.34.103:\n",
            "      Successfully uninstalled botocore-1.34.103\n",
            "\u001b[31mERROR: pip's dependency resolver does not currently take into account all the packages that are installed. This behaviour is the source of the following dependency conflicts.\n",
            "torch 2.2.1+cu121 requires nvidia-cublas-cu12==12.1.3.1; platform_system == \"Linux\" and platform_machine == \"x86_64\", which is not installed.\n",
            "torch 2.2.1+cu121 requires nvidia-cuda-cupti-cu12==12.1.105; platform_system == \"Linux\" and platform_machine == \"x86_64\", which is not installed.\n",
            "torch 2.2.1+cu121 requires nvidia-cuda-nvrtc-cu12==12.1.105; platform_system == \"Linux\" and platform_machine == \"x86_64\", which is not installed.\n",
            "torch 2.2.1+cu121 requires nvidia-cuda-runtime-cu12==12.1.105; platform_system == \"Linux\" and platform_machine == \"x86_64\", which is not installed.\n",
            "torch 2.2.1+cu121 requires nvidia-cudnn-cu12==8.9.2.26; platform_system == \"Linux\" and platform_machine == \"x86_64\", which is not installed.\n",
            "torch 2.2.1+cu121 requires nvidia-cufft-cu12==11.0.2.54; platform_system == \"Linux\" and platform_machine == \"x86_64\", which is not installed.\n",
            "torch 2.2.1+cu121 requires nvidia-curand-cu12==10.3.2.106; platform_system == \"Linux\" and platform_machine == \"x86_64\", which is not installed.\n",
            "torch 2.2.1+cu121 requires nvidia-cusolver-cu12==11.4.5.107; platform_system == \"Linux\" and platform_machine == \"x86_64\", which is not installed.\n",
            "torch 2.2.1+cu121 requires nvidia-cusparse-cu12==12.1.0.106; platform_system == \"Linux\" and platform_machine == \"x86_64\", which is not installed.\n",
            "torch 2.2.1+cu121 requires nvidia-nccl-cu12==2.19.3; platform_system == \"Linux\" and platform_machine == \"x86_64\", which is not installed.\n",
            "torch 2.2.1+cu121 requires nvidia-nvtx-cu12==12.1.105; platform_system == \"Linux\" and platform_machine == \"x86_64\", which is not installed.\n",
            "boto3 1.34.103 requires botocore<1.35.0,>=1.34.103, but you have botocore 1.34.69 which is incompatible.\n",
            "gcsfs 2023.6.0 requires fsspec==2023.6.0, but you have fsspec 2024.3.1 which is incompatible.\u001b[0m\u001b[31m\n",
            "\u001b[0mSuccessfully installed aiobotocore-2.12.3 aioitertools-0.11.0 botocore-1.34.69 fsspec-2024.3.1 s3fs-2024.3.1\n"
          ]
        }
      ],
      "source": [
        "# enable AWS functionalities\n",
        "!pip install boto3\n",
        "!pip install s3fs\n",
        "\n",
        "import pandas as pd"
      ]
    },
    {
      "cell_type": "code",
      "source": [
        "test_persuasive_model_input = pd.read_csv('s3://698modeldata/test_persuasive_model_input.csv')\n",
        "final_persuasive_predictions_df = pd.read_csv('s3://698modelpredictions/final_persuasive_predictions_df.csv')\n",
        "final_persuasive_predictions_using_narrative_df = pd.read_csv('s3://698modelpredictions/final_persuasive_predictions_using_narrative_df.csv')\n",
        "\n"
      ],
      "metadata": {
        "id": "lr_Sx-43CAUo"
      },
      "execution_count": 2,
      "outputs": []
    },
    {
      "cell_type": "code",
      "source": [
        "final_persuasive_predictions_df['prediction'] += 1\n"
      ],
      "metadata": {
        "id": "w5TZH7_wC8Zn"
      },
      "execution_count": 3,
      "outputs": []
    },
    {
      "cell_type": "markdown",
      "source": [
        "Within the persuasive essay dataset, there are actually two sets of essays. They have different scoring logics, and so it's important that the predictions have, not just the essay ids, but also the essay set numbers."
      ],
      "metadata": {
        "id": "B6dNghvRNKyS"
      }
    },
    {
      "cell_type": "code",
      "source": [
        "essay_set_mapping = test_persuasive_model_input[['essay_id', 'essay_set']].drop_duplicates() # create df with essay_id and essay_set\n",
        "\n",
        "# Merge predictions df with the mapping df\n",
        "final_persuasive_predictions_df = pd.merge(\n",
        "    final_persuasive_predictions_df,\n",
        "    essay_set_mapping,\n",
        "    on='essay_id',\n",
        "    how='left'\n",
        ")\n",
        "# And the same for the other predictions df\n",
        "final_persuasive_predictions_using_narrative_df = pd.merge(\n",
        "    final_persuasive_predictions_using_narrative_df,\n",
        "    essay_set_mapping,\n",
        "    on='essay_id',\n",
        "    how='left'\n",
        ")\n",
        "\n",
        "final_persuasive_predictions_df.head()"
      ],
      "metadata": {
        "id": "V7VfzOiIYx5J",
        "colab": {
          "base_uri": "https://localhost:8080/",
          "height": 206
        },
        "outputId": "fcc0047c-82b5-4653-a12b-e419a4e12127"
      },
      "execution_count": 4,
      "outputs": [
        {
          "output_type": "execute_result",
          "data": {
            "text/plain": [
              "   essay_id             active_feature  prediction  target_score  essay_set\n",
              "0      3587   score_type_domain1_score           3           3.0          2\n",
              "1      3587   score_type_domain2_score           3           2.0          2\n",
              "2       926  score_type_rater1_domain1           3           4.0          1\n",
              "3       926  score_type_rater2_domain1           3           3.0          1\n",
              "4       648  score_type_rater1_domain1           4           3.0          1"
            ],
            "text/html": [
              "\n",
              "  <div id=\"df-281ee2e0-758d-437e-8329-d26ff390f37b\" class=\"colab-df-container\">\n",
              "    <div>\n",
              "<style scoped>\n",
              "    .dataframe tbody tr th:only-of-type {\n",
              "        vertical-align: middle;\n",
              "    }\n",
              "\n",
              "    .dataframe tbody tr th {\n",
              "        vertical-align: top;\n",
              "    }\n",
              "\n",
              "    .dataframe thead th {\n",
              "        text-align: right;\n",
              "    }\n",
              "</style>\n",
              "<table border=\"1\" class=\"dataframe\">\n",
              "  <thead>\n",
              "    <tr style=\"text-align: right;\">\n",
              "      <th></th>\n",
              "      <th>essay_id</th>\n",
              "      <th>active_feature</th>\n",
              "      <th>prediction</th>\n",
              "      <th>target_score</th>\n",
              "      <th>essay_set</th>\n",
              "    </tr>\n",
              "  </thead>\n",
              "  <tbody>\n",
              "    <tr>\n",
              "      <th>0</th>\n",
              "      <td>3587</td>\n",
              "      <td>score_type_domain1_score</td>\n",
              "      <td>3</td>\n",
              "      <td>3.0</td>\n",
              "      <td>2</td>\n",
              "    </tr>\n",
              "    <tr>\n",
              "      <th>1</th>\n",
              "      <td>3587</td>\n",
              "      <td>score_type_domain2_score</td>\n",
              "      <td>3</td>\n",
              "      <td>2.0</td>\n",
              "      <td>2</td>\n",
              "    </tr>\n",
              "    <tr>\n",
              "      <th>2</th>\n",
              "      <td>926</td>\n",
              "      <td>score_type_rater1_domain1</td>\n",
              "      <td>3</td>\n",
              "      <td>4.0</td>\n",
              "      <td>1</td>\n",
              "    </tr>\n",
              "    <tr>\n",
              "      <th>3</th>\n",
              "      <td>926</td>\n",
              "      <td>score_type_rater2_domain1</td>\n",
              "      <td>3</td>\n",
              "      <td>3.0</td>\n",
              "      <td>1</td>\n",
              "    </tr>\n",
              "    <tr>\n",
              "      <th>4</th>\n",
              "      <td>648</td>\n",
              "      <td>score_type_rater1_domain1</td>\n",
              "      <td>4</td>\n",
              "      <td>3.0</td>\n",
              "      <td>1</td>\n",
              "    </tr>\n",
              "  </tbody>\n",
              "</table>\n",
              "</div>\n",
              "    <div class=\"colab-df-buttons\">\n",
              "\n",
              "  <div class=\"colab-df-container\">\n",
              "    <button class=\"colab-df-convert\" onclick=\"convertToInteractive('df-281ee2e0-758d-437e-8329-d26ff390f37b')\"\n",
              "            title=\"Convert this dataframe to an interactive table.\"\n",
              "            style=\"display:none;\">\n",
              "\n",
              "  <svg xmlns=\"http://www.w3.org/2000/svg\" height=\"24px\" viewBox=\"0 -960 960 960\">\n",
              "    <path d=\"M120-120v-720h720v720H120Zm60-500h600v-160H180v160Zm220 220h160v-160H400v160Zm0 220h160v-160H400v160ZM180-400h160v-160H180v160Zm440 0h160v-160H620v160ZM180-180h160v-160H180v160Zm440 0h160v-160H620v160Z\"/>\n",
              "  </svg>\n",
              "    </button>\n",
              "\n",
              "  <style>\n",
              "    .colab-df-container {\n",
              "      display:flex;\n",
              "      gap: 12px;\n",
              "    }\n",
              "\n",
              "    .colab-df-convert {\n",
              "      background-color: #E8F0FE;\n",
              "      border: none;\n",
              "      border-radius: 50%;\n",
              "      cursor: pointer;\n",
              "      display: none;\n",
              "      fill: #1967D2;\n",
              "      height: 32px;\n",
              "      padding: 0 0 0 0;\n",
              "      width: 32px;\n",
              "    }\n",
              "\n",
              "    .colab-df-convert:hover {\n",
              "      background-color: #E2EBFA;\n",
              "      box-shadow: 0px 1px 2px rgba(60, 64, 67, 0.3), 0px 1px 3px 1px rgba(60, 64, 67, 0.15);\n",
              "      fill: #174EA6;\n",
              "    }\n",
              "\n",
              "    .colab-df-buttons div {\n",
              "      margin-bottom: 4px;\n",
              "    }\n",
              "\n",
              "    [theme=dark] .colab-df-convert {\n",
              "      background-color: #3B4455;\n",
              "      fill: #D2E3FC;\n",
              "    }\n",
              "\n",
              "    [theme=dark] .colab-df-convert:hover {\n",
              "      background-color: #434B5C;\n",
              "      box-shadow: 0px 1px 3px 1px rgba(0, 0, 0, 0.15);\n",
              "      filter: drop-shadow(0px 1px 2px rgba(0, 0, 0, 0.3));\n",
              "      fill: #FFFFFF;\n",
              "    }\n",
              "  </style>\n",
              "\n",
              "    <script>\n",
              "      const buttonEl =\n",
              "        document.querySelector('#df-281ee2e0-758d-437e-8329-d26ff390f37b button.colab-df-convert');\n",
              "      buttonEl.style.display =\n",
              "        google.colab.kernel.accessAllowed ? 'block' : 'none';\n",
              "\n",
              "      async function convertToInteractive(key) {\n",
              "        const element = document.querySelector('#df-281ee2e0-758d-437e-8329-d26ff390f37b');\n",
              "        const dataTable =\n",
              "          await google.colab.kernel.invokeFunction('convertToInteractive',\n",
              "                                                    [key], {});\n",
              "        if (!dataTable) return;\n",
              "\n",
              "        const docLinkHtml = 'Like what you see? Visit the ' +\n",
              "          '<a target=\"_blank\" href=https://colab.research.google.com/notebooks/data_table.ipynb>data table notebook</a>'\n",
              "          + ' to learn more about interactive tables.';\n",
              "        element.innerHTML = '';\n",
              "        dataTable['output_type'] = 'display_data';\n",
              "        await google.colab.output.renderOutput(dataTable, element);\n",
              "        const docLink = document.createElement('div');\n",
              "        docLink.innerHTML = docLinkHtml;\n",
              "        element.appendChild(docLink);\n",
              "      }\n",
              "    </script>\n",
              "  </div>\n",
              "\n",
              "\n",
              "<div id=\"df-ecdde901-eb20-4139-aee4-dae396a7aabe\">\n",
              "  <button class=\"colab-df-quickchart\" onclick=\"quickchart('df-ecdde901-eb20-4139-aee4-dae396a7aabe')\"\n",
              "            title=\"Suggest charts\"\n",
              "            style=\"display:none;\">\n",
              "\n",
              "<svg xmlns=\"http://www.w3.org/2000/svg\" height=\"24px\"viewBox=\"0 0 24 24\"\n",
              "     width=\"24px\">\n",
              "    <g>\n",
              "        <path d=\"M19 3H5c-1.1 0-2 .9-2 2v14c0 1.1.9 2 2 2h14c1.1 0 2-.9 2-2V5c0-1.1-.9-2-2-2zM9 17H7v-7h2v7zm4 0h-2V7h2v10zm4 0h-2v-4h2v4z\"/>\n",
              "    </g>\n",
              "</svg>\n",
              "  </button>\n",
              "\n",
              "<style>\n",
              "  .colab-df-quickchart {\n",
              "      --bg-color: #E8F0FE;\n",
              "      --fill-color: #1967D2;\n",
              "      --hover-bg-color: #E2EBFA;\n",
              "      --hover-fill-color: #174EA6;\n",
              "      --disabled-fill-color: #AAA;\n",
              "      --disabled-bg-color: #DDD;\n",
              "  }\n",
              "\n",
              "  [theme=dark] .colab-df-quickchart {\n",
              "      --bg-color: #3B4455;\n",
              "      --fill-color: #D2E3FC;\n",
              "      --hover-bg-color: #434B5C;\n",
              "      --hover-fill-color: #FFFFFF;\n",
              "      --disabled-bg-color: #3B4455;\n",
              "      --disabled-fill-color: #666;\n",
              "  }\n",
              "\n",
              "  .colab-df-quickchart {\n",
              "    background-color: var(--bg-color);\n",
              "    border: none;\n",
              "    border-radius: 50%;\n",
              "    cursor: pointer;\n",
              "    display: none;\n",
              "    fill: var(--fill-color);\n",
              "    height: 32px;\n",
              "    padding: 0;\n",
              "    width: 32px;\n",
              "  }\n",
              "\n",
              "  .colab-df-quickchart:hover {\n",
              "    background-color: var(--hover-bg-color);\n",
              "    box-shadow: 0 1px 2px rgba(60, 64, 67, 0.3), 0 1px 3px 1px rgba(60, 64, 67, 0.15);\n",
              "    fill: var(--button-hover-fill-color);\n",
              "  }\n",
              "\n",
              "  .colab-df-quickchart-complete:disabled,\n",
              "  .colab-df-quickchart-complete:disabled:hover {\n",
              "    background-color: var(--disabled-bg-color);\n",
              "    fill: var(--disabled-fill-color);\n",
              "    box-shadow: none;\n",
              "  }\n",
              "\n",
              "  .colab-df-spinner {\n",
              "    border: 2px solid var(--fill-color);\n",
              "    border-color: transparent;\n",
              "    border-bottom-color: var(--fill-color);\n",
              "    animation:\n",
              "      spin 1s steps(1) infinite;\n",
              "  }\n",
              "\n",
              "  @keyframes spin {\n",
              "    0% {\n",
              "      border-color: transparent;\n",
              "      border-bottom-color: var(--fill-color);\n",
              "      border-left-color: var(--fill-color);\n",
              "    }\n",
              "    20% {\n",
              "      border-color: transparent;\n",
              "      border-left-color: var(--fill-color);\n",
              "      border-top-color: var(--fill-color);\n",
              "    }\n",
              "    30% {\n",
              "      border-color: transparent;\n",
              "      border-left-color: var(--fill-color);\n",
              "      border-top-color: var(--fill-color);\n",
              "      border-right-color: var(--fill-color);\n",
              "    }\n",
              "    40% {\n",
              "      border-color: transparent;\n",
              "      border-right-color: var(--fill-color);\n",
              "      border-top-color: var(--fill-color);\n",
              "    }\n",
              "    60% {\n",
              "      border-color: transparent;\n",
              "      border-right-color: var(--fill-color);\n",
              "    }\n",
              "    80% {\n",
              "      border-color: transparent;\n",
              "      border-right-color: var(--fill-color);\n",
              "      border-bottom-color: var(--fill-color);\n",
              "    }\n",
              "    90% {\n",
              "      border-color: transparent;\n",
              "      border-bottom-color: var(--fill-color);\n",
              "    }\n",
              "  }\n",
              "</style>\n",
              "\n",
              "  <script>\n",
              "    async function quickchart(key) {\n",
              "      const quickchartButtonEl =\n",
              "        document.querySelector('#' + key + ' button');\n",
              "      quickchartButtonEl.disabled = true;  // To prevent multiple clicks.\n",
              "      quickchartButtonEl.classList.add('colab-df-spinner');\n",
              "      try {\n",
              "        const charts = await google.colab.kernel.invokeFunction(\n",
              "            'suggestCharts', [key], {});\n",
              "      } catch (error) {\n",
              "        console.error('Error during call to suggestCharts:', error);\n",
              "      }\n",
              "      quickchartButtonEl.classList.remove('colab-df-spinner');\n",
              "      quickchartButtonEl.classList.add('colab-df-quickchart-complete');\n",
              "    }\n",
              "    (() => {\n",
              "      let quickchartButtonEl =\n",
              "        document.querySelector('#df-ecdde901-eb20-4139-aee4-dae396a7aabe button');\n",
              "      quickchartButtonEl.style.display =\n",
              "        google.colab.kernel.accessAllowed ? 'block' : 'none';\n",
              "    })();\n",
              "  </script>\n",
              "</div>\n",
              "\n",
              "    </div>\n",
              "  </div>\n"
            ],
            "application/vnd.google.colaboratory.intrinsic+json": {
              "type": "dataframe",
              "variable_name": "final_persuasive_predictions_df",
              "summary": "{\n  \"name\": \"final_persuasive_predictions_df\",\n  \"rows\": 1076,\n  \"fields\": [\n    {\n      \"column\": \"essay_id\",\n      \"properties\": {\n        \"dtype\": \"number\",\n        \"std\": 1600,\n        \"min\": 6,\n        \"max\": 4777,\n        \"num_unique_values\": 538,\n        \"samples\": [\n          1159,\n          3563,\n          4502\n        ],\n        \"semantic_type\": \"\",\n        \"description\": \"\"\n      }\n    },\n    {\n      \"column\": \"active_feature\",\n      \"properties\": {\n        \"dtype\": \"category\",\n        \"num_unique_values\": 4,\n        \"samples\": [\n          \"score_type_domain2_score\",\n          \"score_type_rater2_domain1\",\n          \"score_type_domain1_score\"\n        ],\n        \"semantic_type\": \"\",\n        \"description\": \"\"\n      }\n    },\n    {\n      \"column\": \"prediction\",\n      \"properties\": {\n        \"dtype\": \"number\",\n        \"std\": 0,\n        \"min\": 1,\n        \"max\": 6,\n        \"num_unique_values\": 6,\n        \"samples\": [\n          3,\n          4,\n          6\n        ],\n        \"semantic_type\": \"\",\n        \"description\": \"\"\n      }\n    },\n    {\n      \"column\": \"target_score\",\n      \"properties\": {\n        \"dtype\": \"number\",\n        \"std\": 0.953913372314915,\n        \"min\": 1.0,\n        \"max\": 6.0,\n        \"num_unique_values\": 6,\n        \"samples\": [\n          3.0,\n          2.0,\n          1.0\n        ],\n        \"semantic_type\": \"\",\n        \"description\": \"\"\n      }\n    },\n    {\n      \"column\": \"essay_set\",\n      \"properties\": {\n        \"dtype\": \"number\",\n        \"std\": 0,\n        \"min\": 1,\n        \"max\": 2,\n        \"num_unique_values\": 2,\n        \"samples\": [\n          1,\n          2\n        ],\n        \"semantic_type\": \"\",\n        \"description\": \"\"\n      }\n    }\n  ]\n}"
            }
          },
          "metadata": {},
          "execution_count": 4
        }
      ]
    },
    {
      "cell_type": "markdown",
      "source": [
        "And now we can work on Essay 1. It's critical to note, and this goes for the entire notebook, that the resolved score is a function of the different subscores that the model directly predicted. In this case, the model made predictions for score_type_rater1_domain1 and score_type_rater2_domain1. We'd like a pivoted table, then, with one essay per row (essentially transforming the data from long to wide). We then calculate the resolved score (in this case called domain_1_score) by adding the two raters' scores.\n",
        "\n",
        "Note: for details about each essay's scoring logic, please consult the data preparation notebook."
      ],
      "metadata": {
        "id": "nRz3OgLNPLfo"
      }
    },
    {
      "cell_type": "code",
      "source": [
        "# Filtering for essay 1 scores\n",
        "filtered_df = final_persuasive_predictions_df[\n",
        "    final_persuasive_predictions_df['essay_set'] == 1\n",
        "]\n",
        "\n",
        "\n",
        "pivot_df = filtered_df.pivot_table(\n",
        "    index='essay_id', # unique identifier\n",
        "    columns='active_feature', # each unique value in active_feature becomes a column with the value prediction\n",
        "    values='prediction',\n",
        "    aggfunc='first' # in case there are multiple entries for each essay_id and active_feature, we just want the first one\n",
        ").reset_index()\n",
        "\n",
        "pivot_df.columns = ['essay_id', 'predicted_rater1_domain1', 'predicted_rater2_domain1']\n",
        "\n",
        "pivot_df['predicted_domain1_score'] = pivot_df['predicted_rater1_domain1'] + pivot_df['predicted_rater2_domain1']\n"
      ],
      "metadata": {
        "id": "aEKg5YXHVxxE"
      },
      "execution_count": 5,
      "outputs": []
    },
    {
      "cell_type": "code",
      "source": [
        "filtered_df.head()"
      ],
      "metadata": {
        "colab": {
          "base_uri": "https://localhost:8080/",
          "height": 206
        },
        "id": "NgUpCxw0k3Uo",
        "outputId": "4efc2d86-351f-4f58-9709-3de37dbc4b23"
      },
      "execution_count": 6,
      "outputs": [
        {
          "output_type": "execute_result",
          "data": {
            "text/plain": [
              "   essay_id             active_feature  prediction  target_score  essay_set\n",
              "2       926  score_type_rater1_domain1           3           4.0          1\n",
              "3       926  score_type_rater2_domain1           3           3.0          1\n",
              "4       648  score_type_rater1_domain1           4           3.0          1\n",
              "5       648  score_type_rater2_domain1           4           3.0          1\n",
              "6       698  score_type_rater1_domain1           3           3.0          1"
            ],
            "text/html": [
              "\n",
              "  <div id=\"df-ccd68f67-9167-4115-939d-171af7349539\" class=\"colab-df-container\">\n",
              "    <div>\n",
              "<style scoped>\n",
              "    .dataframe tbody tr th:only-of-type {\n",
              "        vertical-align: middle;\n",
              "    }\n",
              "\n",
              "    .dataframe tbody tr th {\n",
              "        vertical-align: top;\n",
              "    }\n",
              "\n",
              "    .dataframe thead th {\n",
              "        text-align: right;\n",
              "    }\n",
              "</style>\n",
              "<table border=\"1\" class=\"dataframe\">\n",
              "  <thead>\n",
              "    <tr style=\"text-align: right;\">\n",
              "      <th></th>\n",
              "      <th>essay_id</th>\n",
              "      <th>active_feature</th>\n",
              "      <th>prediction</th>\n",
              "      <th>target_score</th>\n",
              "      <th>essay_set</th>\n",
              "    </tr>\n",
              "  </thead>\n",
              "  <tbody>\n",
              "    <tr>\n",
              "      <th>2</th>\n",
              "      <td>926</td>\n",
              "      <td>score_type_rater1_domain1</td>\n",
              "      <td>3</td>\n",
              "      <td>4.0</td>\n",
              "      <td>1</td>\n",
              "    </tr>\n",
              "    <tr>\n",
              "      <th>3</th>\n",
              "      <td>926</td>\n",
              "      <td>score_type_rater2_domain1</td>\n",
              "      <td>3</td>\n",
              "      <td>3.0</td>\n",
              "      <td>1</td>\n",
              "    </tr>\n",
              "    <tr>\n",
              "      <th>4</th>\n",
              "      <td>648</td>\n",
              "      <td>score_type_rater1_domain1</td>\n",
              "      <td>4</td>\n",
              "      <td>3.0</td>\n",
              "      <td>1</td>\n",
              "    </tr>\n",
              "    <tr>\n",
              "      <th>5</th>\n",
              "      <td>648</td>\n",
              "      <td>score_type_rater2_domain1</td>\n",
              "      <td>4</td>\n",
              "      <td>3.0</td>\n",
              "      <td>1</td>\n",
              "    </tr>\n",
              "    <tr>\n",
              "      <th>6</th>\n",
              "      <td>698</td>\n",
              "      <td>score_type_rater1_domain1</td>\n",
              "      <td>3</td>\n",
              "      <td>3.0</td>\n",
              "      <td>1</td>\n",
              "    </tr>\n",
              "  </tbody>\n",
              "</table>\n",
              "</div>\n",
              "    <div class=\"colab-df-buttons\">\n",
              "\n",
              "  <div class=\"colab-df-container\">\n",
              "    <button class=\"colab-df-convert\" onclick=\"convertToInteractive('df-ccd68f67-9167-4115-939d-171af7349539')\"\n",
              "            title=\"Convert this dataframe to an interactive table.\"\n",
              "            style=\"display:none;\">\n",
              "\n",
              "  <svg xmlns=\"http://www.w3.org/2000/svg\" height=\"24px\" viewBox=\"0 -960 960 960\">\n",
              "    <path d=\"M120-120v-720h720v720H120Zm60-500h600v-160H180v160Zm220 220h160v-160H400v160Zm0 220h160v-160H400v160ZM180-400h160v-160H180v160Zm440 0h160v-160H620v160ZM180-180h160v-160H180v160Zm440 0h160v-160H620v160Z\"/>\n",
              "  </svg>\n",
              "    </button>\n",
              "\n",
              "  <style>\n",
              "    .colab-df-container {\n",
              "      display:flex;\n",
              "      gap: 12px;\n",
              "    }\n",
              "\n",
              "    .colab-df-convert {\n",
              "      background-color: #E8F0FE;\n",
              "      border: none;\n",
              "      border-radius: 50%;\n",
              "      cursor: pointer;\n",
              "      display: none;\n",
              "      fill: #1967D2;\n",
              "      height: 32px;\n",
              "      padding: 0 0 0 0;\n",
              "      width: 32px;\n",
              "    }\n",
              "\n",
              "    .colab-df-convert:hover {\n",
              "      background-color: #E2EBFA;\n",
              "      box-shadow: 0px 1px 2px rgba(60, 64, 67, 0.3), 0px 1px 3px 1px rgba(60, 64, 67, 0.15);\n",
              "      fill: #174EA6;\n",
              "    }\n",
              "\n",
              "    .colab-df-buttons div {\n",
              "      margin-bottom: 4px;\n",
              "    }\n",
              "\n",
              "    [theme=dark] .colab-df-convert {\n",
              "      background-color: #3B4455;\n",
              "      fill: #D2E3FC;\n",
              "    }\n",
              "\n",
              "    [theme=dark] .colab-df-convert:hover {\n",
              "      background-color: #434B5C;\n",
              "      box-shadow: 0px 1px 3px 1px rgba(0, 0, 0, 0.15);\n",
              "      filter: drop-shadow(0px 1px 2px rgba(0, 0, 0, 0.3));\n",
              "      fill: #FFFFFF;\n",
              "    }\n",
              "  </style>\n",
              "\n",
              "    <script>\n",
              "      const buttonEl =\n",
              "        document.querySelector('#df-ccd68f67-9167-4115-939d-171af7349539 button.colab-df-convert');\n",
              "      buttonEl.style.display =\n",
              "        google.colab.kernel.accessAllowed ? 'block' : 'none';\n",
              "\n",
              "      async function convertToInteractive(key) {\n",
              "        const element = document.querySelector('#df-ccd68f67-9167-4115-939d-171af7349539');\n",
              "        const dataTable =\n",
              "          await google.colab.kernel.invokeFunction('convertToInteractive',\n",
              "                                                    [key], {});\n",
              "        if (!dataTable) return;\n",
              "\n",
              "        const docLinkHtml = 'Like what you see? Visit the ' +\n",
              "          '<a target=\"_blank\" href=https://colab.research.google.com/notebooks/data_table.ipynb>data table notebook</a>'\n",
              "          + ' to learn more about interactive tables.';\n",
              "        element.innerHTML = '';\n",
              "        dataTable['output_type'] = 'display_data';\n",
              "        await google.colab.output.renderOutput(dataTable, element);\n",
              "        const docLink = document.createElement('div');\n",
              "        docLink.innerHTML = docLinkHtml;\n",
              "        element.appendChild(docLink);\n",
              "      }\n",
              "    </script>\n",
              "  </div>\n",
              "\n",
              "\n",
              "<div id=\"df-3f8d18c8-5b72-4e28-a89a-bcfc3064568e\">\n",
              "  <button class=\"colab-df-quickchart\" onclick=\"quickchart('df-3f8d18c8-5b72-4e28-a89a-bcfc3064568e')\"\n",
              "            title=\"Suggest charts\"\n",
              "            style=\"display:none;\">\n",
              "\n",
              "<svg xmlns=\"http://www.w3.org/2000/svg\" height=\"24px\"viewBox=\"0 0 24 24\"\n",
              "     width=\"24px\">\n",
              "    <g>\n",
              "        <path d=\"M19 3H5c-1.1 0-2 .9-2 2v14c0 1.1.9 2 2 2h14c1.1 0 2-.9 2-2V5c0-1.1-.9-2-2-2zM9 17H7v-7h2v7zm4 0h-2V7h2v10zm4 0h-2v-4h2v4z\"/>\n",
              "    </g>\n",
              "</svg>\n",
              "  </button>\n",
              "\n",
              "<style>\n",
              "  .colab-df-quickchart {\n",
              "      --bg-color: #E8F0FE;\n",
              "      --fill-color: #1967D2;\n",
              "      --hover-bg-color: #E2EBFA;\n",
              "      --hover-fill-color: #174EA6;\n",
              "      --disabled-fill-color: #AAA;\n",
              "      --disabled-bg-color: #DDD;\n",
              "  }\n",
              "\n",
              "  [theme=dark] .colab-df-quickchart {\n",
              "      --bg-color: #3B4455;\n",
              "      --fill-color: #D2E3FC;\n",
              "      --hover-bg-color: #434B5C;\n",
              "      --hover-fill-color: #FFFFFF;\n",
              "      --disabled-bg-color: #3B4455;\n",
              "      --disabled-fill-color: #666;\n",
              "  }\n",
              "\n",
              "  .colab-df-quickchart {\n",
              "    background-color: var(--bg-color);\n",
              "    border: none;\n",
              "    border-radius: 50%;\n",
              "    cursor: pointer;\n",
              "    display: none;\n",
              "    fill: var(--fill-color);\n",
              "    height: 32px;\n",
              "    padding: 0;\n",
              "    width: 32px;\n",
              "  }\n",
              "\n",
              "  .colab-df-quickchart:hover {\n",
              "    background-color: var(--hover-bg-color);\n",
              "    box-shadow: 0 1px 2px rgba(60, 64, 67, 0.3), 0 1px 3px 1px rgba(60, 64, 67, 0.15);\n",
              "    fill: var(--button-hover-fill-color);\n",
              "  }\n",
              "\n",
              "  .colab-df-quickchart-complete:disabled,\n",
              "  .colab-df-quickchart-complete:disabled:hover {\n",
              "    background-color: var(--disabled-bg-color);\n",
              "    fill: var(--disabled-fill-color);\n",
              "    box-shadow: none;\n",
              "  }\n",
              "\n",
              "  .colab-df-spinner {\n",
              "    border: 2px solid var(--fill-color);\n",
              "    border-color: transparent;\n",
              "    border-bottom-color: var(--fill-color);\n",
              "    animation:\n",
              "      spin 1s steps(1) infinite;\n",
              "  }\n",
              "\n",
              "  @keyframes spin {\n",
              "    0% {\n",
              "      border-color: transparent;\n",
              "      border-bottom-color: var(--fill-color);\n",
              "      border-left-color: var(--fill-color);\n",
              "    }\n",
              "    20% {\n",
              "      border-color: transparent;\n",
              "      border-left-color: var(--fill-color);\n",
              "      border-top-color: var(--fill-color);\n",
              "    }\n",
              "    30% {\n",
              "      border-color: transparent;\n",
              "      border-left-color: var(--fill-color);\n",
              "      border-top-color: var(--fill-color);\n",
              "      border-right-color: var(--fill-color);\n",
              "    }\n",
              "    40% {\n",
              "      border-color: transparent;\n",
              "      border-right-color: var(--fill-color);\n",
              "      border-top-color: var(--fill-color);\n",
              "    }\n",
              "    60% {\n",
              "      border-color: transparent;\n",
              "      border-right-color: var(--fill-color);\n",
              "    }\n",
              "    80% {\n",
              "      border-color: transparent;\n",
              "      border-right-color: var(--fill-color);\n",
              "      border-bottom-color: var(--fill-color);\n",
              "    }\n",
              "    90% {\n",
              "      border-color: transparent;\n",
              "      border-bottom-color: var(--fill-color);\n",
              "    }\n",
              "  }\n",
              "</style>\n",
              "\n",
              "  <script>\n",
              "    async function quickchart(key) {\n",
              "      const quickchartButtonEl =\n",
              "        document.querySelector('#' + key + ' button');\n",
              "      quickchartButtonEl.disabled = true;  // To prevent multiple clicks.\n",
              "      quickchartButtonEl.classList.add('colab-df-spinner');\n",
              "      try {\n",
              "        const charts = await google.colab.kernel.invokeFunction(\n",
              "            'suggestCharts', [key], {});\n",
              "      } catch (error) {\n",
              "        console.error('Error during call to suggestCharts:', error);\n",
              "      }\n",
              "      quickchartButtonEl.classList.remove('colab-df-spinner');\n",
              "      quickchartButtonEl.classList.add('colab-df-quickchart-complete');\n",
              "    }\n",
              "    (() => {\n",
              "      let quickchartButtonEl =\n",
              "        document.querySelector('#df-3f8d18c8-5b72-4e28-a89a-bcfc3064568e button');\n",
              "      quickchartButtonEl.style.display =\n",
              "        google.colab.kernel.accessAllowed ? 'block' : 'none';\n",
              "    })();\n",
              "  </script>\n",
              "</div>\n",
              "\n",
              "    </div>\n",
              "  </div>\n"
            ],
            "application/vnd.google.colaboratory.intrinsic+json": {
              "type": "dataframe",
              "variable_name": "filtered_df",
              "summary": "{\n  \"name\": \"filtered_df\",\n  \"rows\": 536,\n  \"fields\": [\n    {\n      \"column\": \"essay_id\",\n      \"properties\": {\n        \"dtype\": \"number\",\n        \"std\": 506,\n        \"min\": 6,\n        \"max\": 1776,\n        \"num_unique_values\": 268,\n        \"samples\": [\n          712,\n          1547,\n          22\n        ],\n        \"semantic_type\": \"\",\n        \"description\": \"\"\n      }\n    },\n    {\n      \"column\": \"active_feature\",\n      \"properties\": {\n        \"dtype\": \"category\",\n        \"num_unique_values\": 2,\n        \"samples\": [\n          \"score_type_rater2_domain1\",\n          \"score_type_rater1_domain1\"\n        ],\n        \"semantic_type\": \"\",\n        \"description\": \"\"\n      }\n    },\n    {\n      \"column\": \"prediction\",\n      \"properties\": {\n        \"dtype\": \"number\",\n        \"std\": 0,\n        \"min\": 1,\n        \"max\": 6,\n        \"num_unique_values\": 6,\n        \"samples\": [\n          3,\n          4\n        ],\n        \"semantic_type\": \"\",\n        \"description\": \"\"\n      }\n    },\n    {\n      \"column\": \"target_score\",\n      \"properties\": {\n        \"dtype\": \"number\",\n        \"std\": 0.8539925351574316,\n        \"min\": 1.0,\n        \"max\": 6.0,\n        \"num_unique_values\": 6,\n        \"samples\": [\n          4.0,\n          3.0\n        ],\n        \"semantic_type\": \"\",\n        \"description\": \"\"\n      }\n    },\n    {\n      \"column\": \"essay_set\",\n      \"properties\": {\n        \"dtype\": \"number\",\n        \"std\": 0,\n        \"min\": 1,\n        \"max\": 1,\n        \"num_unique_values\": 1,\n        \"samples\": [\n          1\n        ],\n        \"semantic_type\": \"\",\n        \"description\": \"\"\n      }\n    }\n  ]\n}"
            }
          },
          "metadata": {},
          "execution_count": 6
        }
      ]
    },
    {
      "cell_type": "code",
      "source": [
        "# The process is repeated for the predictions on persuasive essays made using the model trained on the narrative essays.\n",
        "\n",
        "filtered_narrative_df = final_persuasive_predictions_using_narrative_df[\n",
        "    final_persuasive_predictions_using_narrative_df['essay_set'] == 1\n",
        "]\n",
        "\n",
        "narrative_pivot_df = filtered_narrative_df.pivot_table(\n",
        "    index='essay_id',\n",
        "    columns='feature',\n",
        "    values='prediction',\n",
        "    aggfunc='first'\n",
        ").reset_index()\n",
        "\n",
        "narrative_pivot_df.columns = ['essay_id', 'narrative_predicted_rater1_domain1', 'narrative_predicted_rater2_domain1']\n",
        "\n",
        "narrative_pivot_df['narrative_predicted_domain1_score'] = narrative_pivot_df['narrative_predicted_rater1_domain1'] + narrative_pivot_df['narrative_predicted_rater2_domain1']\n"
      ],
      "metadata": {
        "id": "_dGAWMjkVx9b"
      },
      "execution_count": 7,
      "outputs": []
    },
    {
      "cell_type": "markdown",
      "source": [
        "Now for the input data (that is, with the actual scores including the actual resolved scores), we filter for only essay 1 and then aggregate data by essay_id. Because rater1_domain 1 might be NaN in one of the rows, we select the max--this is to say, the actual value."
      ],
      "metadata": {
        "id": "uVf5J241140L"
      }
    },
    {
      "cell_type": "code",
      "source": [
        "set1_data = test_persuasive_model_input[test_persuasive_model_input['essay_set'] == 1]\n",
        "\n",
        "# We only want one row per essay_id for set 1\n",
        "aggregated_scores_set1 = set1_data.groupby('essay_id').agg({\n",
        "    'essay_set': 'first',\n",
        "    'rater1_domain1': 'max',  # to ignore the NaN row\n",
        "    'rater2_domain1': 'max',  # to ignore the NaN row\n",
        "    'domain1_score': 'first'\n",
        "}).reset_index()\n",
        "\n",
        "print(aggregated_scores_set1.head(20))\n"
      ],
      "metadata": {
        "colab": {
          "base_uri": "https://localhost:8080/"
        },
        "id": "SE3G3ElaaiRG",
        "outputId": "f60b4158-b5b0-41d2-bc2e-449cb86a015b"
      },
      "execution_count": 8,
      "outputs": [
        {
          "output_type": "stream",
          "name": "stdout",
          "text": [
            "    essay_id  essay_set  rater1_domain1  rater2_domain1  domain1_score\n",
            "0          6          1             4.0             4.0            8.0\n",
            "1         11          1             4.0             4.0            8.0\n",
            "2         12          1             4.0             4.0            8.0\n",
            "3         15          1             3.0             3.0            6.0\n",
            "4         19          1             2.0             2.0            4.0\n",
            "5         22          1             2.0             1.0            3.0\n",
            "6         33          1             3.0             3.0            6.0\n",
            "7         36          1             5.0             5.0           10.0\n",
            "8         46          1             4.0             4.0            8.0\n",
            "9         48          1             6.0             5.0           11.0\n",
            "10        50          1             2.0             3.0            5.0\n",
            "11        74          1             4.0             3.0            7.0\n",
            "12        83          1             3.0             4.0            7.0\n",
            "13        86          1             4.0             4.0            8.0\n",
            "14        92          1             5.0             6.0           11.0\n",
            "15       101          1             5.0             5.0           10.0\n",
            "16       104          1             5.0             5.0           10.0\n",
            "17       105          1             4.0             5.0            9.0\n",
            "18       108          1             4.0             4.0            8.0\n",
            "19       130          1             5.0             5.0           10.0\n"
          ]
        }
      ]
    },
    {
      "cell_type": "markdown",
      "source": [
        "We keep the essential columns from the actual scored data and merge them with the predictions data using the column essay_id."
      ],
      "metadata": {
        "id": "RALZZotQ2cLH"
      }
    },
    {
      "cell_type": "code",
      "source": [
        "actual_scores_df = aggregated_scores_set1[['essay_id', 'essay_set', 'rater1_domain1', 'rater2_domain1', 'domain1_score']]\n",
        "\n",
        "# Merge actual scores with both predicted\n",
        "persuasive_all_scores = pd.merge(actual_scores_df, pivot_df, on='essay_id', how='left') # first merging the predictions using the persuasive model\n",
        "persuasive_all_scores = pd.merge(persuasive_all_scores, narrative_pivot_df, on='essay_id', how='left') # next merging the predictions using the narrative model\n"
      ],
      "metadata": {
        "id": "geiVyqMVWr-t"
      },
      "execution_count": 9,
      "outputs": []
    },
    {
      "cell_type": "markdown",
      "source": [
        "The QWK can now be calculated. For sake of completeness, the following will be calculated:\n",
        "\n",
        "1. The QWK for rater 1 using the persuasive  model\n",
        "2. The QWK for rater 1 using the narrative model\n",
        "3. The QWK for rater 2 using the persuasive  model\n",
        "4. The QWK for rater 2 using the narrative model\n",
        "5. The QWK for the resolved score (called domain1_score) using the persuasive model\n",
        "6. The QWK for the resolved score (called domain1_score) using the narrative model\n",
        "7. The QWK for the two human raters"
      ],
      "metadata": {
        "id": "QNbOHvVp23m6"
      }
    },
    {
      "cell_type": "code",
      "source": [
        "from sklearn.metrics import cohen_kappa_score\n",
        "\n",
        "def calculate_qwk_scores(df, description):\n",
        "    qwk_rater1 = cohen_kappa_score(\n",
        "        df['predicted_rater1_domain1'],\n",
        "        df['rater1_domain1'],\n",
        "        weights='quadratic'\n",
        "    )\n",
        "    qwk_narrative_rater1 = cohen_kappa_score(\n",
        "        df['narrative_predicted_rater1_domain1'],\n",
        "        df['rater1_domain1'],\n",
        "        weights='quadratic'\n",
        "    )\n",
        "    qwk_rater2 = cohen_kappa_score(\n",
        "        df['predicted_rater2_domain1'],\n",
        "        df['rater2_domain1'],\n",
        "        weights='quadratic'\n",
        "    )\n",
        "    qwk_narrative_rater2 = cohen_kappa_score(\n",
        "        df['narrative_predicted_rater2_domain1'],\n",
        "        df['rater2_domain1'],\n",
        "        weights='quadratic'\n",
        "    )\n",
        "    qwk_domain1 = cohen_kappa_score(\n",
        "        df['predicted_domain1_score'],\n",
        "        df['domain1_score'],\n",
        "        weights='quadratic'\n",
        "    )\n",
        "    qwk_narrative_domain1 = cohen_kappa_score(\n",
        "        df['narrative_predicted_domain1_score'],\n",
        "        df['domain1_score'],\n",
        "        weights='quadratic'\n",
        "    )\n",
        "    qwk_raters = cohen_kappa_score(\n",
        "    df['rater1_domain1'],\n",
        "    df['rater2_domain1'],\n",
        "    weights='quadratic'\n",
        "    )\n",
        "\n",
        "    print(f\"Results for {description}:\")\n",
        "    print(\"QWK for Rater1:\", qwk_rater1)\n",
        "    print(\"Narrative QWK for Rater1:\", qwk_narrative_rater1)\n",
        "    print(\"QWK for Rater2:\", qwk_rater2)\n",
        "    print(\"Narrative QWK for Rater2:\", qwk_narrative_rater2)\n",
        "    print(\"QWK for Domain1 Score:\", qwk_domain1)\n",
        "    print(\"Narrative QWK for Domain1 Score:\", qwk_narrative_domain1)\n",
        "    print(\"Human Raters QWK for Domain1 Score:\", qwk_raters)\n",
        "    print(\"\\n\")\n",
        "\n",
        "calculate_qwk_scores(persuasive_all_scores, \"Essay 1\")"
      ],
      "metadata": {
        "colab": {
          "base_uri": "https://localhost:8080/"
        },
        "id": "Zte-iF8vWOti",
        "outputId": "d41dc845-15ae-41a3-8efe-7f118046cd5f"
      },
      "execution_count": 10,
      "outputs": [
        {
          "output_type": "stream",
          "name": "stdout",
          "text": [
            "Results for Essay 1:\n",
            "QWK for Rater1: 0.6721144967682364\n",
            "Narrative QWK for Rater1: 0.11616290983606559\n",
            "QWK for Rater2: 0.7040528233151184\n",
            "Narrative QWK for Rater2: 0.09347803107712904\n",
            "QWK for Domain1 Score: 0.7485568231407019\n",
            "Narrative QWK for Domain1 Score: 0.10902886265270062\n",
            "Human Raters QWK for Domain1 Score: 0.7315705128205128\n",
            "\n",
            "\n"
          ]
        }
      ]
    },
    {
      "cell_type": "markdown",
      "source": [
        "We can also create histograms on the same plot so see differences in the distrubutions for actual and predicted resolved scores."
      ],
      "metadata": {
        "id": "D4GnKLD4azK3"
      }
    },
    {
      "cell_type": "code",
      "source": [
        "import matplotlib.pyplot as plt\n",
        "import numpy as np\n",
        "\n",
        "actual_scores = persuasive_all_scores['domain1_score'].astype(int)\n",
        "predicted_scores = persuasive_all_scores['predicted_domain1_score'].astype(int)\n",
        "\n",
        "# Counts for each score\n",
        "actual_counts = np.bincount(actual_scores)\n",
        "predicted_counts = np.bincount(predicted_scores)\n",
        "\n",
        "# Ensure the length of both counts arrays are the same\n",
        "max_length = max(len(actual_counts), len(predicted_counts))\n",
        "actual_counts = np.pad(actual_counts, (0, max_length - len(actual_counts)), mode='constant')\n",
        "predicted_counts = np.pad(predicted_counts, (0, max_length - len(predicted_counts)), mode='constant')\n",
        "\n",
        "score_labels = np.arange(max_length)\n",
        "\n",
        "# Plot histogram\n",
        "plt.figure(figsize=(10, 6))\n",
        "ax = plt.axes()\n",
        "\n",
        "plt.bar(score_labels - 0.15, actual_counts, width=0.3, label='Actual Scores', color='blue', align='center')\n",
        "plt.bar(score_labels + 0.15, predicted_counts, width=0.3, label='Predicted Scores', color='orange', align='center')\n",
        "\n",
        "plt.xlabel('Scores')\n",
        "plt.ylabel('Frequency')\n",
        "plt.title('Actual vs. Predicted Scores for Essay Set 1')\n",
        "plt.xticks(score_labels)\n",
        "plt.legend()\n",
        "plt.grid(True, axis='y')\n",
        "\n",
        "ax.spines['top'].set_visible(False)\n",
        "ax.spines['right'].set_visible(False)\n",
        "\n",
        "ax.set_axisbelow(True) # So that the lines don't cut through the bars\n",
        "plt.show()\n",
        "\n",
        "\n"
      ],
      "metadata": {
        "colab": {
          "base_uri": "https://localhost:8080/",
          "height": 564
        },
        "id": "krf5cib8hNMr",
        "outputId": "99fd36a9-f7cc-48ca-9e89-e5bae05b91b0"
      },
      "execution_count": 11,
      "outputs": [
        {
          "output_type": "display_data",
          "data": {
            "text/plain": [
              "<Figure size 1000x600 with 1 Axes>"
            ],
            "image/png": "[encoded data removed]"
          },
          "metadata": {}
        }
      ]
    },
    {
      "cell_type": "markdown",
      "source": [
        "It looks like almost all predicted resolved scores are even, suggesting perhaps that the predicted scores for each rater are the same."
      ],
      "metadata": {
        "id": "6sSyxynH-vOt"
      }
    },
    {
      "cell_type": "code",
      "source": [
        "filtered_df1 = persuasive_all_scores[persuasive_all_scores['essay_set'] == 1]\n",
        "\n",
        "percent_same_predicted = (filtered_df1['predicted_rater1_domain1'] == filtered_df1['predicted_rater2_domain1']).mean() * 100\n",
        "percent_same_actual = (filtered_df1['rater1_domain1'] == filtered_df1['rater2_domain1']).mean() * 100\n",
        "\n",
        "print(f\"Percentage of rows where predicted ratings are the same: {percent_same_predicted:.2f}%\")\n",
        "print(f\"Percentage of rows where actual ratings are the same: {percent_same_actual:.2f}%\")"
      ],
      "metadata": {
        "colab": {
          "base_uri": "https://localhost:8080/"
        },
        "id": "9lcZkGVC-Jx0",
        "outputId": "a29d7bd4-02c1-44fc-abd7-3682ea2c4da3"
      },
      "execution_count": 78,
      "outputs": [
        {
          "output_type": "stream",
          "name": "stdout",
          "text": [
            "Percentage of rows where predicted ratings are the same: 100.00%\n",
            "Percentage of rows where actual ratings are the same: 64.18%\n"
          ]
        }
      ]
    },
    {
      "cell_type": "code",
      "source": [
        "# narrative predicted\n",
        "\n",
        "actual_scores = persuasive_all_scores['domain1_score'].astype(int)\n",
        "predicted_scores = persuasive_all_scores['narrative_predicted_domain1_score'].astype(int)\n",
        "\n",
        "# Counts for each score\n",
        "actual_counts = np.bincount(actual_scores)\n",
        "predicted_counts = np.bincount(predicted_scores)\n",
        "\n",
        "# Ensure the length of both counts arrays are the same\n",
        "max_length = max(len(actual_counts), len(predicted_counts))\n",
        "actual_counts = np.pad(actual_counts, (0, max_length - len(actual_counts)), mode='constant')\n",
        "predicted_counts = np.pad(predicted_counts, (0, max_length - len(predicted_counts)), mode='constant')\n",
        "\n",
        "score_labels = np.arange(max_length)\n",
        "\n",
        "# Plot histogram\n",
        "plt.figure(figsize=(10, 6))\n",
        "ax = plt.axes()\n",
        "\n",
        "plt.bar(score_labels - 0.15, actual_counts, width=0.3, label='Actual Scores', color='blue', align='center')\n",
        "plt.bar(score_labels + 0.15, predicted_counts, width=0.3, label='Predicted Scores', color='orange', align='center')\n",
        "\n",
        "plt.xlabel('Scores')\n",
        "plt.ylabel('Frequency')\n",
        "plt.title('Actual vs. Narrative Predicted Scores for Essay Set 1')\n",
        "plt.xticks(score_labels)\n",
        "plt.legend()\n",
        "plt.grid(True, axis='y')\n",
        "\n",
        "ax.spines['top'].set_visible(False)\n",
        "ax.spines['right'].set_visible(False)\n",
        "\n",
        "ax.set_axisbelow(True) # So that the lines don't cut through the bars\n",
        "plt.show()\n",
        "\n",
        "\n"
      ],
      "metadata": {
        "colab": {
          "base_uri": "https://localhost:8080/",
          "height": 564
        },
        "id": "9aGpqu1l0ty_",
        "outputId": "534c7593-f1bd-483e-ce7d-f5c0089b8d23"
      },
      "execution_count": 12,
      "outputs": [
        {
          "output_type": "display_data",
          "data": {
            "text/plain": [
              "<Figure size 1000x600 with 1 Axes>"
            ],
            "image/png": "[encoded data removed]"
          },
          "metadata": {}
        }
      ]
    },
    {
      "cell_type": "code",
      "source": [
        "from sklearn.metrics import confusion_matrix\n",
        "\n",
        "# Calculate confusion matrix for the standard model predictions\n",
        "cm_standard = confusion_matrix(\n",
        "    persuasive_all_scores['domain1_score'],\n",
        "    persuasive_all_scores['predicted_domain1_score']\n",
        ")\n",
        "print(\"Confusion Matrix for Domain1 Score vs. Predicted Domain1 Score:\")\n",
        "print(cm_standard)\n",
        "\n",
        "# Calculate confusion matrix for the narrative model predictions\n",
        "cm_narrative = confusion_matrix(\n",
        "    persuasive_all_scores['domain1_score'],\n",
        "    persuasive_all_scores['narrative_predicted_domain1_score']\n",
        ")\n",
        "print(\"\\nConfusion Matrix for Domain1 Score vs. Narrative Predicted Domain1 Score:\")\n",
        "print(cm_narrative)\n"
      ],
      "metadata": {
        "colab": {
          "base_uri": "https://localhost:8080/"
        },
        "id": "yj0oridK5gc7",
        "outputId": "17682c13-8884-4982-faad-df1fef0890c8"
      },
      "execution_count": 13,
      "outputs": [
        {
          "output_type": "stream",
          "name": "stdout",
          "text": [
            "Confusion Matrix for Domain1 Score vs. Predicted Domain1 Score:\n",
            "[[ 1  0  0  0  0  0  0  0  0  0  0]\n",
            " [ 0  0  1  0  0  0  0  0  0  0  0]\n",
            " [ 0  0  2  0  0  0  0  0  0  0  0]\n",
            " [ 0  0  2  0  0  0  1  0  0  0  0]\n",
            " [ 0  0  0  0 13  0  5  0  0  0  0]\n",
            " [ 0  0  0  0  9  0  9  0  0  0  0]\n",
            " [ 0  0  0  0  2  0 91  0  7  0  0]\n",
            " [ 0  0  0  0  0  0 35  0 15  0  1]\n",
            " [ 0  0  0  0  0  0 21  0 24  0  0]\n",
            " [ 0  0  0  0  0  0  2  0 18  0  0]\n",
            " [ 0  0  0  0  0  0  0  0  9  0  0]]\n",
            "\n",
            "Confusion Matrix for Domain1 Score vs. Narrative Predicted Domain1 Score:\n",
            "[[ 0  0  0  0  1  0  0  0  0  0  0]\n",
            " [ 0  0  0  0  1  0  0  0  0  0  0]\n",
            " [ 0  0  0  0  2  0  0  0  0  0  0]\n",
            " [ 0  0  1  0  2  0  0  0  0  0  0]\n",
            " [ 0  0  2  0 16  0  0  0  0  0  0]\n",
            " [ 0  0  1  0 17  0  0  0  0  0  0]\n",
            " [ 0  0  0  0 99  0  1  0  0  0  0]\n",
            " [ 0  0  0  0 47  0  4  0  0  0  0]\n",
            " [ 0  0  0  0 34  0 11  0  0  0  0]\n",
            " [ 0  0  0  0 12  0  8  0  0  0  0]\n",
            " [ 0  0  0  0  4  0  5  0  0  0  0]]\n"
          ]
        }
      ]
    },
    {
      "cell_type": "markdown",
      "source": [
        "Performance for set 2 is now evaluated. Note, the structure of the process is nearly identical for this essay set and beyond (with the main adjustments being to the scoring logic). Significant commentary will only be added when the there is an adjustment to the process, otherwise it is repititious; the commentary for set 1 can be consulted to clarify any questions about the process."
      ],
      "metadata": {
        "id": "LX-XBmEr7MJ7"
      }
    },
    {
      "cell_type": "code",
      "source": [
        "# filtering for set 2 for both predictions dataframes\n",
        "\n",
        "filtered_df_set2 = final_persuasive_predictions_df[\n",
        "    final_persuasive_predictions_df['essay_set'] == 2\n",
        "]\n",
        "\n",
        "filtered_narrative_df_set2 = final_persuasive_predictions_using_narrative_df[\n",
        "    final_persuasive_predictions_using_narrative_df['essay_set'] == 2\n",
        "]\n"
      ],
      "metadata": {
        "id": "vhcL5_lYlGBt"
      },
      "execution_count": 14,
      "outputs": []
    },
    {
      "cell_type": "code",
      "source": [
        "# Pivoting from long to wide\n",
        "pivot_df_set2 = filtered_df_set2.pivot_table(\n",
        "    index='essay_id',\n",
        "    columns='active_feature',\n",
        "    values='prediction',\n",
        "    aggfunc='first'\n",
        ").reset_index()\n",
        "\n",
        "narrative_pivot_df_set2 = filtered_narrative_df_set2.pivot_table(\n",
        "    index='essay_id',\n",
        "    columns='feature',\n",
        "    values='prediction',\n",
        "    aggfunc='first'\n",
        ").reset_index()\n",
        "\n",
        "pivot_df_set2.columns = ['essay_id', 'predicted_domain1_score', 'predicted_domain2_score'] # renaming\n",
        "narrative_pivot_df_set2.columns = ['essay_id', 'narrative_predicted_domain1_score', 'narrative_predicted_domain2_score'] # renaming\n"
      ],
      "metadata": {
        "id": "b9MrKtajlvpu"
      },
      "execution_count": 15,
      "outputs": []
    },
    {
      "cell_type": "code",
      "source": [
        "aggregated_scores_set2 = test_persuasive_model_input[\n",
        "    test_persuasive_model_input['essay_set'] == 2 # Filtering for only set 2\n",
        "# Aggregating so that there is one row per essay_id\n",
        "].groupby('essay_id').agg({\n",
        "    'essay_set': 'first',\n",
        "    'domain1_score': 'first',\n",
        "    'domain2_score': 'first'\n",
        "}).reset_index()\n",
        "\n",
        "# Merging actual scored and predictions\n",
        "final_scores_set2 = pd.merge(aggregated_scores_set2, pivot_df_set2, on='essay_id', how='left')\n",
        "final_scores_set2 = pd.merge(final_scores_set2, narrative_pivot_df_set2, on='essay_id', how='left')\n"
      ],
      "metadata": {
        "id": "fDlr3AsAlvz-"
      },
      "execution_count": 16,
      "outputs": []
    },
    {
      "cell_type": "markdown",
      "source": [
        "Now I again calculate key metrics. For this essay set (unlike all the other ones), there are two resolved scores: one for domain1 and the other for domain2. These are simply the rater1's scores for both domains."
      ],
      "metadata": {
        "id": "B-uNOp699PZI"
      }
    },
    {
      "cell_type": "code",
      "source": [
        "qwk_predicted_domain1 = cohen_kappa_score(\n",
        "    final_scores_set2['predicted_domain1_score'],\n",
        "    final_scores_set2['domain1_score'],\n",
        "    weights='quadratic'\n",
        ")\n",
        "\n",
        "qwk_narrative_predicted_domain1 = cohen_kappa_score(\n",
        "    final_scores_set2['narrative_predicted_domain1_score'],\n",
        "    final_scores_set2['domain1_score'],\n",
        "    weights='quadratic'\n",
        ")\n",
        "\n",
        "print(\"QWK for predicted domain 1 score:\", qwk_predicted_domain1)\n",
        "print(\"QWK for narrative predicted domain 1 score:\", qwk_narrative_predicted_domain1)\n",
        "\n",
        "qwk_predicted_domain2 = cohen_kappa_score(\n",
        "    final_scores_set2['predicted_domain2_score'],\n",
        "    final_scores_set2['domain2_score'],\n",
        "    weights='quadratic'\n",
        ")\n",
        "\n",
        "qwk_narrative_predicted_domain2 = cohen_kappa_score(\n",
        "    final_scores_set2['narrative_predicted_domain2_score'],\n",
        "    final_scores_set2['domain2_score'],\n",
        "    weights='quadratic'\n",
        ")\n",
        "\n",
        "print(\"QWK for predicted domain 2 score:\", qwk_predicted_domain2)\n",
        "print(\"QWK for narrative predicted domain 2 score:\", qwk_narrative_predicted_domain2)\n"
      ],
      "metadata": {
        "colab": {
          "base_uri": "https://localhost:8080/"
        },
        "id": "NxhgSTDJlv5J",
        "outputId": "63df99a6-beb8-4ab8-a44c-235bd6f3e38f"
      },
      "execution_count": 17,
      "outputs": [
        {
          "output_type": "stream",
          "name": "stdout",
          "text": [
            "QWK for predicted domain 1 score: 0.6437994722955146\n",
            "QWK for narrative predicted domain 1 score: 0.5696235851539879\n",
            "QWK for predicted domain 2 score: 0.6289862587503241\n",
            "QWK for narrative predicted domain 2 score: 0.52226481863757\n"
          ]
        }
      ]
    },
    {
      "cell_type": "markdown",
      "source": [
        "Now let's see to what extent the raters agreed with each other. The data will be aggregated to dismiss NaN values, and then the agreement for each domain will be calculated."
      ],
      "metadata": {
        "id": "bU65h-Sc9ORF"
      }
    },
    {
      "cell_type": "code",
      "source": [
        "aggregated_set2_for_raters = test_persuasive_model_input[test_persuasive_model_input['essay_set'] == 2].groupby('essay_id').agg({\n",
        "    'essay_set': 'first',\n",
        "    'rater1_domain1': 'max',  # non-NaN entries are consistent\n",
        "    'rater2_domain1': 'max',\n",
        "    'rater1_domain2': 'max',\n",
        "    'rater2_domain2': 'max',\n",
        "}).reset_index()\n",
        "\n",
        "print(aggregated_set2_for_raters.head())\n"
      ],
      "metadata": {
        "colab": {
          "base_uri": "https://localhost:8080/"
        },
        "id": "-yeud9YAlv-E",
        "outputId": "eb540e2a-505b-4d01-f150-826b33776bab"
      },
      "execution_count": 18,
      "outputs": [
        {
          "output_type": "stream",
          "name": "stdout",
          "text": [
            "   essay_id  essay_set  rater1_domain1  rater2_domain1  rater1_domain2  \\\n",
            "0      2985          2             2.0             3.0             2.0   \n",
            "1      3000          2             3.0             3.0             3.0   \n",
            "2      3006          2             3.0             3.0             3.0   \n",
            "3      3007          2             3.0             3.0             3.0   \n",
            "4      3017          2             4.0             4.0             4.0   \n",
            "\n",
            "   rater2_domain2  \n",
            "0             3.0  \n",
            "1             3.0  \n",
            "2             3.0  \n",
            "3             3.0  \n",
            "4             4.0  \n"
          ]
        }
      ]
    },
    {
      "cell_type": "code",
      "source": [
        "qwk_raters_domain1 = cohen_kappa_score(\n",
        "    aggregated_set2_for_raters['rater1_domain1'],\n",
        "    aggregated_set2_for_raters['rater2_domain1'],\n",
        "    weights='quadratic'\n",
        ")\n",
        "\n",
        "qwk_raters_domain2 = cohen_kappa_score(\n",
        "    aggregated_set2_for_raters['rater1_domain2'],\n",
        "    aggregated_set2_for_raters['rater2_domain2'],\n",
        "    weights='quadratic'\n",
        ")\n",
        "\n",
        "print(\"QWK between raters for domain 1:\", qwk_raters_domain1)\n",
        "print(\"QWK between raters for domain 2:\", qwk_raters_domain2)\n"
      ],
      "metadata": {
        "colab": {
          "base_uri": "https://localhost:8080/"
        },
        "id": "JtWrL6IVlwBP",
        "outputId": "195d9040-1f08-454b-9faf-c2a1e72567fe"
      },
      "execution_count": 19,
      "outputs": [
        {
          "output_type": "stream",
          "name": "stdout",
          "text": [
            "QWK between raters for domain 1: 0.8116379606120909\n",
            "QWK between raters for domain 2: 0.8090614886731391\n"
          ]
        }
      ]
    },
    {
      "cell_type": "code",
      "source": [
        "# Histogram for set 2: domain 1\n",
        "actual_scores = final_scores_set2['domain1_score'].astype(int)\n",
        "predicted_scores = final_scores_set2['predicted_domain1_score'].astype(int)\n",
        "\n",
        "# Counts for each score\n",
        "actual_counts = np.bincount(actual_scores)\n",
        "predicted_counts = np.bincount(predicted_scores)\n",
        "\n",
        "# Making sure counts array lengths are the same\n",
        "max_length = max(len(actual_counts), len(predicted_counts))\n",
        "actual_counts = np.pad(actual_counts, (0, max_length - len(actual_counts)), mode='constant')\n",
        "predicted_counts = np.pad(predicted_counts, (0, max_length - len(predicted_counts)), mode='constant')\n",
        "\n",
        "score_labels = np.arange(max_length)\n",
        "\n",
        "# Plot histogram\n",
        "plt.figure(figsize=(10, 6))\n",
        "ax = plt.axes()\n",
        "\n",
        "plt.bar(score_labels - 0.15, actual_counts, width=0.3, label='Actual Scores', color='blue', align='center')\n",
        "plt.bar(score_labels + 0.15, predicted_counts, width=0.3, label='Predicted Scores', color='orange', align='center')\n",
        "\n",
        "plt.xlabel('Scores')\n",
        "plt.ylabel('Frequency')\n",
        "plt.title('Actual vs. Predicted Scores for Essay Set 2: Domain 1')\n",
        "plt.xticks(score_labels)\n",
        "plt.legend()\n",
        "plt.grid(True, axis='y')\n",
        "\n",
        "ax.spines['top'].set_visible(False)\n",
        "ax.spines['right'].set_visible(False)\n",
        "\n",
        "ax.set_axisbelow(True) # So that the lines don't cut through the bars\n",
        "plt.show()\n",
        "\n",
        "\n",
        "\n"
      ],
      "metadata": {
        "colab": {
          "base_uri": "https://localhost:8080/",
          "height": 564
        },
        "id": "0DyCbzmJbBl8",
        "outputId": "77287d79-d5ab-4998-81b0-bfe63ea276bb"
      },
      "execution_count": 20,
      "outputs": [
        {
          "output_type": "display_data",
          "data": {
            "text/plain": [
              "<Figure size 1000x600 with 1 Axes>"
            ],
            "image/png": "[encoded data removed]"
          },
          "metadata": {}
        }
      ]
    },
    {
      "cell_type": "code",
      "source": [
        "# Histogram for set 2: domain 2\n",
        "actual_scores = final_scores_set2['domain2_score'].astype(int)\n",
        "predicted_scores = final_scores_set2['predicted_domain2_score'].astype(int)\n",
        "\n",
        "# Counts for each score\n",
        "actual_counts = np.bincount(actual_scores)\n",
        "predicted_counts = np.bincount(predicted_scores)\n",
        "\n",
        "# Making sure counts array lengths are the same\n",
        "max_length = max(len(actual_counts), len(predicted_counts))\n",
        "actual_counts = np.pad(actual_counts, (0, max_length - len(actual_counts)), mode='constant')\n",
        "predicted_counts = np.pad(predicted_counts, (0, max_length - len(predicted_counts)), mode='constant')\n",
        "\n",
        "score_labels = np.arange(max_length)\n",
        "\n",
        "# Plot histogram\n",
        "plt.figure(figsize=(10, 6))\n",
        "ax = plt.axes()\n",
        "\n",
        "plt.bar(score_labels - 0.15, actual_counts, width=0.3, label='Actual Scores', color='blue', align='center')\n",
        "plt.bar(score_labels + 0.15, predicted_counts, width=0.3, label='Predicted Scores', color='orange', align='center')\n",
        "\n",
        "plt.xlabel('Scores')\n",
        "plt.ylabel('Frequency')\n",
        "plt.title('Actual vs. Predicted Scores for Essay Set 2: Domain 2')\n",
        "plt.xticks(score_labels)\n",
        "plt.legend()\n",
        "plt.grid(True, axis='y')\n",
        "\n",
        "ax.spines['top'].set_visible(False)\n",
        "ax.spines['right'].set_visible(False)\n",
        "\n",
        "ax.set_axisbelow(True) # So that the lines don't cut through the bars\n",
        "plt.show()\n",
        "\n",
        "\n",
        "\n"
      ],
      "metadata": {
        "colab": {
          "base_uri": "https://localhost:8080/",
          "height": 564
        },
        "id": "y34iWBeLezcu",
        "outputId": "527eb38c-1139-4b2c-f059-2ba83bccd581"
      },
      "execution_count": 21,
      "outputs": [
        {
          "output_type": "display_data",
          "data": {
            "text/plain": [
              "<Figure size 1000x600 with 1 Axes>"
            ],
            "image/png": "[encoded data removed]"
          },
          "metadata": {}
        }
      ]
    },
    {
      "cell_type": "code",
      "source": [
        "# narrative predicted\n",
        "\n",
        "actual_scores = final_scores_set2['domain1_score'].astype(int)\n",
        "predicted_scores = final_scores_set2['narrative_predicted_domain1_score'].astype(int)\n",
        "\n",
        "# Counts for each score\n",
        "actual_counts = np.bincount(actual_scores)\n",
        "predicted_counts = np.bincount(predicted_scores)\n",
        "\n",
        "# Ensure the length of both counts arrays are the same\n",
        "max_length = max(len(actual_counts), len(predicted_counts))\n",
        "actual_counts = np.pad(actual_counts, (0, max_length - len(actual_counts)), mode='constant')\n",
        "predicted_counts = np.pad(predicted_counts, (0, max_length - len(predicted_counts)), mode='constant')\n",
        "\n",
        "score_labels = np.arange(max_length)\n",
        "\n",
        "# Plot histogram\n",
        "plt.figure(figsize=(10, 6))\n",
        "ax = plt.axes()\n",
        "\n",
        "plt.bar(score_labels - 0.15, actual_counts, width=0.3, label='Actual Scores', color='blue', align='center')\n",
        "plt.bar(score_labels + 0.15, predicted_counts, width=0.3, label='Predicted Scores', color='orange', align='center')\n",
        "\n",
        "plt.xlabel('Scores')\n",
        "plt.ylabel('Frequency')\n",
        "plt.title('Actual vs. Narrative Predicted Scores for Essay Set 2: Domain 1')\n",
        "plt.xticks(score_labels)\n",
        "plt.legend()\n",
        "plt.grid(True, axis='y')\n",
        "\n",
        "ax.spines['top'].set_visible(False)\n",
        "ax.spines['right'].set_visible(False)\n",
        "\n",
        "ax.set_axisbelow(True) # So that the lines don't cut through the bars\n",
        "plt.show()\n",
        "\n",
        "\n"
      ],
      "metadata": {
        "colab": {
          "base_uri": "https://localhost:8080/",
          "height": 564
        },
        "id": "zWJsDRi71CXP",
        "outputId": "3f27a66b-d2a8-496c-ef3b-3deae4812a95"
      },
      "execution_count": 22,
      "outputs": [
        {
          "output_type": "display_data",
          "data": {
            "text/plain": [
              "<Figure size 1000x600 with 1 Axes>"
            ],
            "image/png": "[encoded data removed]"
          },
          "metadata": {}
        }
      ]
    },
    {
      "cell_type": "code",
      "source": [
        "# narrative predicted\n",
        "\n",
        "actual_scores = final_scores_set2['domain1_score'].astype(int)\n",
        "predicted_scores = final_scores_set2['narrative_predicted_domain2_score'].astype(int)\n",
        "\n",
        "# Counts for each score\n",
        "actual_counts = np.bincount(actual_scores)\n",
        "predicted_counts = np.bincount(predicted_scores)\n",
        "\n",
        "# Ensure the length of both counts arrays are the same\n",
        "max_length = max(len(actual_counts), len(predicted_counts))\n",
        "actual_counts = np.pad(actual_counts, (0, max_length - len(actual_counts)), mode='constant')\n",
        "predicted_counts = np.pad(predicted_counts, (0, max_length - len(predicted_counts)), mode='constant')\n",
        "\n",
        "score_labels = np.arange(max_length)\n",
        "\n",
        "# Plot histogram\n",
        "plt.figure(figsize=(10, 6))\n",
        "ax = plt.axes()\n",
        "\n",
        "plt.bar(score_labels - 0.15, actual_counts, width=0.3, label='Actual Scores', color='blue', align='center')\n",
        "plt.bar(score_labels + 0.15, predicted_counts, width=0.3, label='Predicted Scores', color='orange', align='center')\n",
        "\n",
        "plt.xlabel('Scores')\n",
        "plt.ylabel('Frequency')\n",
        "plt.title('Actual vs. Narrative Predicted Scores for Essay Set 2: Domain 2')\n",
        "plt.xticks(score_labels)\n",
        "plt.legend()\n",
        "plt.grid(True, axis='y')\n",
        "\n",
        "ax.spines['top'].set_visible(False)\n",
        "ax.spines['right'].set_visible(False)\n",
        "\n",
        "ax.set_axisbelow(True) # So that the lines don't cut through the bars\n",
        "plt.show()\n",
        "\n",
        "\n"
      ],
      "metadata": {
        "colab": {
          "base_uri": "https://localhost:8080/",
          "height": 564
        },
        "id": "ZiytxiX81LGR",
        "outputId": "da4513fe-199a-40c2-90e9-eb0a5a00c93a"
      },
      "execution_count": 23,
      "outputs": [
        {
          "output_type": "display_data",
          "data": {
            "text/plain": [
              "<Figure size 1000x600 with 1 Axes>"
            ],
            "image/png": "[encoded data removed]"
          },
          "metadata": {}
        }
      ]
    },
    {
      "cell_type": "markdown",
      "source": [
        "So clearly the model performs much worse than it did for the first set. 4 confusion matrices will be built (one for each model for each domain)."
      ],
      "metadata": {
        "id": "aDjdeAx-qLhg"
      }
    },
    {
      "cell_type": "code",
      "source": [
        "# Persuasive model domain 1\n",
        "cm_standard_domain1 = confusion_matrix(\n",
        "    final_scores_set2['domain1_score'],\n",
        "    final_scores_set2['predicted_domain1_score']\n",
        ")\n",
        "\n",
        "# Narrative model domain 1\n",
        "cm_narrative_domain1 = confusion_matrix(\n",
        "    final_scores_set2['domain1_score'],\n",
        "    final_scores_set2['narrative_predicted_domain1_score']\n",
        ")\n",
        "\n",
        "# Persuasive model domain 2\n",
        "cm_standard_domain2 = confusion_matrix(\n",
        "    final_scores_set2['domain2_score'],\n",
        "    final_scores_set2['predicted_domain2_score']\n",
        ")\n",
        "\n",
        "# Narrative model domain 2\n",
        "cm_narrative_domain2 = confusion_matrix(\n",
        "    final_scores_set2['domain2_score'],\n",
        "    final_scores_set2['narrative_predicted_domain2_score']\n",
        ")\n",
        "\n",
        "print(\"Confusion Matrix for persuasive model domain 1:\")\n",
        "print(cm_standard_domain1)\n",
        "\n",
        "print(\"Confusion Matrix for narrative model domain 1:\")\n",
        "print(cm_narrative_domain1)\n",
        "\n",
        "print(\"Confusion Matrix for persuasive model domain 2:\")\n",
        "print(cm_standard_domain2)\n",
        "\n",
        "print(\"Confusion Matrix for narrative model domain 2:\")\n",
        "print(cm_narrative_domain2)\n"
      ],
      "metadata": {
        "colab": {
          "base_uri": "https://localhost:8080/"
        },
        "id": "_j7NJOt2-WtH",
        "outputId": "62b50bd8-d8e9-425e-abf5-278cf2eee1c5"
      },
      "execution_count": 24,
      "outputs": [
        {
          "output_type": "stream",
          "name": "stdout",
          "text": [
            "Confusion Matrix for persuasive model domain 1:\n",
            "[[ 0  3  0  0  0  0]\n",
            " [ 0 12 19  3  0  0]\n",
            " [ 0  1 79 26  0  0]\n",
            " [ 0  0 24 98  0  0]\n",
            " [ 0  0  0  4  0  0]\n",
            " [ 0  0  0  1  0  0]]\n",
            "Confusion Matrix for narrative model domain 1:\n",
            "[[ 1  1  1  0  0  0]\n",
            " [ 0 11 21  2  0  0]\n",
            " [ 0  3 88 15  0  0]\n",
            " [ 0  0 49 73  0  0]\n",
            " [ 0  0  0  4  0  0]\n",
            " [ 0  0  0  1  0  0]]\n",
            "Confusion Matrix for persuasive model domain 2:\n",
            "[[ 0  6  2  0]\n",
            " [ 0 14 16  2]\n",
            " [ 0  1 66 45]\n",
            " [ 0  1 18 99]]\n",
            "Confusion Matrix for narrative model domain 2:\n",
            "[[ 1  4  3  0]\n",
            " [ 0 13 18  1]\n",
            " [ 0  3 97 12]\n",
            " [ 0  1 63 54]]\n"
          ]
        }
      ]
    },
    {
      "cell_type": "code",
      "source": [
        "print(final_scores_set2[\"domain1_score\"].value_counts())\n",
        "print(final_scores_set2[\"domain2_score\"].value_counts())\n",
        "print(final_scores_set2[\"predicted_domain1_score\"].value_counts())\n",
        "print(final_scores_set2[\"predicted_domain2_score\"].value_counts())"
      ],
      "metadata": {
        "colab": {
          "base_uri": "https://localhost:8080/"
        },
        "id": "fSqvZX0CTq02",
        "outputId": "3c1ae0ce-86a3-478e-a793-79a3173a8b34"
      },
      "execution_count": 104,
      "outputs": [
        {
          "output_type": "stream",
          "name": "stdout",
          "text": [
            "domain1_score\n",
            "4.0    122\n",
            "3.0    106\n",
            "2.0     34\n",
            "5.0      4\n",
            "1.0      3\n",
            "6.0      1\n",
            "Name: count, dtype: int64\n",
            "domain2_score\n",
            "4.0    118\n",
            "3.0    112\n",
            "2.0     32\n",
            "1.0      8\n",
            "Name: count, dtype: int64\n",
            "predicted_domain1_score\n",
            "4    132\n",
            "3    122\n",
            "2     16\n",
            "Name: count, dtype: int64\n",
            "predicted_domain2_score\n",
            "4    146\n",
            "3    102\n",
            "2     22\n",
            "Name: count, dtype: int64\n"
          ]
        }
      ]
    },
    {
      "cell_type": "code",
      "source": [
        "# nicer heatmaps for the paper\n",
        "\n",
        "import seaborn as sns\n",
        "\n",
        "plt.figure(figsize=(10, 8))\n",
        "ax = sns.heatmap(cm_standard_domain1, annot=True, cmap=\"Blues\", fmt=\"d\", cbar=False) # other plot will have bar\n",
        "min = 0\n",
        "vmax = 99 # the highest value in the next heatmap\n",
        "score_range = range(1, 7)\n",
        "# Correct tick labels (start at 1 instead of 0)\n",
        "ax.set_xticklabels(score_range, rotation=0)\n",
        "ax.set_yticklabels(score_range, rotation=0)\n",
        "\n",
        "plt.xlabel(\"Predicted Score\", fontsize=12)\n",
        "plt.ylabel(\"Actual Score\", fontsize=12)\n",
        "#plt.title(f\"Confusion Matrix for Essay 2: Domain 1\")\n",
        "\n",
        "plt.show()"
      ],
      "metadata": {
        "colab": {
          "base_uri": "https://localhost:8080/",
          "height": 700
        },
        "id": "qW57kkalPcWd",
        "outputId": "765a6d82-8534-4703-a964-08bd572a530d"
      },
      "execution_count": 114,
      "outputs": [
        {
          "output_type": "display_data",
          "data": {
            "text/plain": [
              "<Figure size 1000x800 with 1 Axes>"
            ],
            "image/png": "[encoded data removed]"
          },
          "metadata": {}
        }
      ]
    },
    {
      "cell_type": "code",
      "source": [
        "plt.figure(figsize=(10, 8))\n",
        "ax = sns.heatmap(cm_standard_domain2, annot=True, cmap=\"Blues\", fmt=\"d\")\n",
        "min = 0\n",
        "vmax = 99 # the highest value in the next heatmap\n",
        "score_range = range(1, 5)\n",
        "# Correct tick labels (start at 1 instead of 0)\n",
        "ax.set_xticklabels(score_range, rotation=0)\n",
        "ax.set_yticklabels(score_range, rotation=0)\n",
        "\n",
        "plt.xlabel(\"Predicted Score\", fontsize=12)\n",
        "plt.ylabel(\"Actual Score\", fontsize=12)\n",
        "#plt.title(f\"Confusion Matrix for Essay 2: Domain 2\")\n",
        "\n",
        "plt.show()"
      ],
      "metadata": {
        "colab": {
          "base_uri": "https://localhost:8080/",
          "height": 700
        },
        "id": "OTjMKythQZir",
        "outputId": "39aca74c-4ca6-4f4b-adc9-f89c334175c9"
      },
      "execution_count": 116,
      "outputs": [
        {
          "output_type": "display_data",
          "data": {
            "text/plain": [
              "<Figure size 1000x800 with 2 Axes>"
            ],
            "image/png": "[encoded data removed]"
          },
          "metadata": {}
        }
      ]
    },
    {
      "cell_type": "markdown",
      "source": [
        "## Source-dependent essays\n",
        "\n",
        "We move now to the second model (source-dependent). Again, we used the narrative model to make predictions on this test set as well. As earlier, commentary will be limited, since the structure is the same as the earlier sets."
      ],
      "metadata": {
        "id": "xd-YBdFD_GCt"
      }
    },
    {
      "cell_type": "code",
      "source": [
        "test_sd_model_input = pd.read_csv('s3://698modeldata/test_source_dependent_model_input.csv')\n",
        "final_sd_predictions_df = pd.read_csv('s3://698modelpredictions/final_sd_predictions_df.csv')\n",
        "final_sd_predictions_using_narrative_df = pd.read_csv('s3://698modelpredictions/final_sd_predictions_using_narrative_df.csv')"
      ],
      "metadata": {
        "id": "h4U2bDIBlGP1"
      },
      "execution_count": 25,
      "outputs": []
    },
    {
      "cell_type": "code",
      "source": [
        "essay_set_mapping = test_sd_model_input[['essay_id', 'essay_set']].drop_duplicates() # create df with essay_id and essay_set\n",
        "\n",
        "# Merging the prediction dfs so that they have the essay_id\n",
        "final_sd_predictions_df = pd.merge(\n",
        "    final_sd_predictions_df,\n",
        "    essay_set_mapping,\n",
        "    on='essay_id',\n",
        "    how='left'\n",
        ")\n",
        "\n",
        "final_sd_predictions_using_narrative_df = pd.merge(\n",
        "    final_sd_predictions_using_narrative_df,\n",
        "    essay_set_mapping,\n",
        "    on='essay_id',\n",
        "    how='left'\n",
        ")"
      ],
      "metadata": {
        "id": "_K11KDvRlGUe"
      },
      "execution_count": 26,
      "outputs": []
    },
    {
      "cell_type": "markdown",
      "source": [
        "The scoring logic for essays 3 and 4 is identical, so the scoring process will be done for both simultaneously."
      ],
      "metadata": {
        "id": "Hd6rznjWCsxs"
      }
    },
    {
      "cell_type": "code",
      "source": [
        "filtered_df = final_sd_predictions_df[\n",
        "    final_sd_predictions_df['essay_set'].isin([3, 4]) # Filtering the df to only include sets 3 and 4\n",
        "]\n",
        "\n",
        "# Pivoting the df from long to wide\n",
        "pivot_df = filtered_df.pivot_table(\n",
        "    index='essay_id',\n",
        "    columns='feature',\n",
        "    values='prediction',\n",
        "    aggfunc='first'\n",
        ").reset_index()\n"
      ],
      "metadata": {
        "id": "BjU8ViXrsJ6g"
      },
      "execution_count": 27,
      "outputs": []
    },
    {
      "cell_type": "code",
      "source": [
        "# Repeating the process for the df that makes predictions using the narrative model\n",
        "filtered_narrative_df = final_sd_predictions_using_narrative_df[\n",
        "    final_sd_predictions_using_narrative_df['essay_set'].isin([3, 4])\n",
        "]\n",
        "\n",
        "narrative_pivot_df = filtered_narrative_df.pivot_table(\n",
        "    index='essay_id',\n",
        "    columns='feature',\n",
        "    values='prediction',\n",
        "    aggfunc='first'\n",
        ").reset_index()\n",
        "\n",
        "\n"
      ],
      "metadata": {
        "id": "RfJymOazsJ9l"
      },
      "execution_count": 28,
      "outputs": []
    },
    {
      "cell_type": "markdown",
      "source": [
        "The scoring logic is: if the two raters' scores are adjacent or equal, the higher of the two scores is the resolved score. Otherwise, the resolved score is the average of the two scores rounded to the nearest integer. Again, details about the scoring logic can be found in the data preparation notebook."
      ],
      "metadata": {
        "id": "HxdRI2ZHDFU-"
      }
    },
    {
      "cell_type": "code",
      "source": [
        "def calculate_score(row):\n",
        "    if abs(row['score_type_rater1_domain1'] - row['score_type_rater2_domain1']) <= 1:\n",
        "        return max(row['score_type_rater1_domain1'], row['score_type_rater2_domain1'])\n",
        "    else:\n",
        "        return round(np.mean([row['score_type_rater1_domain1'], row['score_type_rater2_domain1']]))\n",
        "\n",
        "pivot_df['predicted_domain1_score'] = pivot_df.apply(calculate_score, axis=1)\n",
        "narrative_pivot_df['narrative_predicted_domain1_score'] = narrative_pivot_df.apply(calculate_score, axis=1)\n",
        "\n",
        "\n",
        "\n"
      ],
      "metadata": {
        "id": "feXAqGx028GN"
      },
      "execution_count": 29,
      "outputs": []
    },
    {
      "cell_type": "code",
      "source": [
        "# Renaming for clarity\n",
        "pivot_df.rename(columns={\n",
        "    'score_type_rater1_domain1': 'predicted_rater1_domain1',\n",
        "    'score_type_rater2_domain1': 'predicted_rater2_domain1'\n",
        "}, inplace=True)\n",
        "\n",
        "narrative_pivot_df.rename(columns={\n",
        "    'score_type_rater1_domain1': 'narrative_predicted_rater1_domain1',\n",
        "    'score_type_rater2_domain1': 'narrative_predicted_rater2_domain1'\n",
        "}, inplace=True)"
      ],
      "metadata": {
        "id": "TJ1dk-O_29lP"
      },
      "execution_count": 30,
      "outputs": []
    },
    {
      "cell_type": "code",
      "source": [
        "# Filtering the actual scores df to only include sets 3 and 4\n",
        "set_data = test_sd_model_input[test_sd_model_input['essay_set'].isin([3, 4])]\n",
        "\n",
        "# Aggregating so that there is one row per essay_id\n",
        "aggregated_scores_set34 = set_data.groupby('essay_id').agg({\n",
        "    'essay_set': 'first',\n",
        "    'rater1_domain1': 'max',  # to ignore NaN\n",
        "    'rater2_domain1': 'max',  # to ignore NaN\n",
        "    'domain1_score': 'first'\n",
        "}).reset_index()\n"
      ],
      "metadata": {
        "id": "OvkiWVIusKH2"
      },
      "execution_count": 31,
      "outputs": []
    },
    {
      "cell_type": "code",
      "source": [
        "# merging all the dataframes\n",
        "final_scores_set34 = pd.merge(aggregated_scores_set34, pivot_df, on='essay_id', how='left')\n",
        "final_scores_set34 = pd.merge(final_scores_set34, narrative_pivot_df, on='essay_id', how='left')"
      ],
      "metadata": {
        "id": "1JRxuNSnsKLp"
      },
      "execution_count": 32,
      "outputs": []
    },
    {
      "cell_type": "code",
      "source": [
        "# splitting the merged dataframe based on essay set (this will simplify calculations)\n",
        "final_scores_set3 = final_scores_set34[final_scores_set34['essay_set'] == 3]\n",
        "final_scores_set4 = final_scores_set34[final_scores_set34['essay_set'] == 4]"
      ],
      "metadata": {
        "id": "whtgElGWsKQV"
      },
      "execution_count": 33,
      "outputs": []
    },
    {
      "cell_type": "code",
      "source": [
        "print(final_scores_set4[final_scores_set4.isna().any(axis=1)])\n",
        "\n"
      ],
      "metadata": {
        "colab": {
          "base_uri": "https://localhost:8080/"
        },
        "id": "YmlLS5CS6vXb",
        "outputId": "b082a837-8c73-407b-dfb9-e2b228b25b8f"
      },
      "execution_count": 34,
      "outputs": [
        {
          "output_type": "stream",
          "name": "stdout",
          "text": [
            "     essay_id  essay_set  rater1_domain1  rater2_domain1  domain1_score  \\\n",
            "509     10534          4             NaN             NaN            NaN   \n",
            "\n",
            "     predicted_rater1_domain1  predicted_rater2_domain1  \\\n",
            "509                       NaN                       NaN   \n",
            "\n",
            "     predicted_domain1_score  narrative_predicted_rater1_domain1  \\\n",
            "509                      NaN                                   3   \n",
            "\n",
            "     narrative_predicted_rater2_domain1  narrative_predicted_domain1_score  \n",
            "509                                   3                                  3  \n"
          ]
        }
      ]
    },
    {
      "cell_type": "markdown",
      "source": [
        "It turns out there is one row with missing data; this row can just be dropped."
      ],
      "metadata": {
        "id": "0paZTaPGD_cE"
      }
    },
    {
      "cell_type": "code",
      "source": [
        "final_scores_set4_copy = final_scores_set4.copy()\n",
        "final_scores_set4_copy.dropna(inplace=True)\n",
        "final_scores_set4 = final_scores_set4_copy"
      ],
      "metadata": {
        "id": "G_SuMfFh60QF"
      },
      "execution_count": 35,
      "outputs": []
    },
    {
      "cell_type": "code",
      "source": [
        "# Because there is only one domain score, we can use the function from earlier (see set 1)\n",
        "calculate_qwk_scores(final_scores_set3, \"Essay Set 3\")\n",
        "calculate_qwk_scores(final_scores_set4, \"Essay Set 4\")"
      ],
      "metadata": {
        "colab": {
          "base_uri": "https://localhost:8080/"
        },
        "id": "vn21mNYi6sDD",
        "outputId": "9227aae9-ec18-4be1-b358-89b29f139ce6"
      },
      "execution_count": 36,
      "outputs": [
        {
          "output_type": "stream",
          "name": "stdout",
          "text": [
            "Results for Essay Set 3:\n",
            "QWK for Rater1: 0.7515281089822657\n",
            "Narrative QWK for Rater1: 0.032715057689499116\n",
            "QWK for Rater2: 0.6899844115354637\n",
            "Narrative QWK for Rater2: 0.027677322918173597\n",
            "QWK for Domain1 Score: 0.7234053245888458\n",
            "Narrative QWK for Domain1 Score: 0.0421111111111111\n",
            "Human Raters QWK for Domain1 Score: 0.72551003203507\n",
            "\n",
            "\n",
            "Results for Essay Set 4:\n",
            "QWK for Rater1: 0.7606185976766454\n",
            "Narrative QWK for Rater1: 0.003408156070043411\n",
            "QWK for Rater2: 0.7731264507815465\n",
            "Narrative QWK for Rater2: 0.005372915096345188\n",
            "QWK for Domain1 Score: 0.7747770048931026\n",
            "Narrative QWK for Domain1 Score: 0.0048030143055296515\n",
            "Human Raters QWK for Domain1 Score: 0.8767062794237093\n",
            "\n",
            "\n"
          ]
        }
      ]
    },
    {
      "cell_type": "code",
      "source": [
        "# Histogram for set 3\n",
        "actual_scores = final_scores_set3['domain1_score'].astype(int)\n",
        "predicted_scores = final_scores_set3['predicted_domain1_score'].astype(int)\n",
        "\n",
        "# Counts for each score\n",
        "actual_counts = np.bincount(actual_scores)\n",
        "predicted_counts = np.bincount(predicted_scores)\n",
        "\n",
        "# Making sure counts array lengths are the same\n",
        "max_length = max(len(actual_counts), len(predicted_counts))\n",
        "actual_counts = np.pad(actual_counts, (0, max_length - len(actual_counts)), mode='constant')\n",
        "predicted_counts = np.pad(predicted_counts, (0, max_length - len(predicted_counts)), mode='constant')\n",
        "\n",
        "score_labels = np.arange(max_length)\n",
        "\n",
        "# Plot histogram\n",
        "plt.figure(figsize=(10, 6))\n",
        "ax = plt.axes()\n",
        "\n",
        "plt.bar(score_labels - 0.15, actual_counts, width=0.3, label='Actual Scores', color='blue', align='center')\n",
        "plt.bar(score_labels + 0.15, predicted_counts, width=0.3, label='Predicted Scores', color='orange', align='center')\n",
        "\n",
        "plt.xlabel('Scores')\n",
        "plt.ylabel('Frequency')\n",
        "plt.title('Actual vs. Predicted Scores for Essay Set 3')\n",
        "plt.xticks(score_labels)\n",
        "plt.legend()\n",
        "plt.grid(True, axis='y')\n",
        "\n",
        "ax.spines['top'].set_visible(False)\n",
        "ax.spines['right'].set_visible(False)\n",
        "\n",
        "ax.set_axisbelow(True) # So that the lines don't cut through the bars\n",
        "plt.show()\n",
        "\n"
      ],
      "metadata": {
        "colab": {
          "base_uri": "https://localhost:8080/",
          "height": 564
        },
        "id": "lJBTFuHyjHsA",
        "outputId": "66954d01-9bd5-4285-8e20-7847c3539f01"
      },
      "execution_count": 37,
      "outputs": [
        {
          "output_type": "display_data",
          "data": {
            "text/plain": [
              "<Figure size 1000x600 with 1 Axes>"
            ],
            "image/png": "[encoded data removed]"
          },
          "metadata": {}
        }
      ]
    },
    {
      "cell_type": "code",
      "source": [
        "# Histogram for set 4\n",
        "actual_scores = final_scores_set4['domain1_score'].astype(int)\n",
        "predicted_scores = final_scores_set4['predicted_domain1_score'].astype(int)\n",
        "\n",
        "# Counts for each score\n",
        "actual_counts = np.bincount(actual_scores)\n",
        "predicted_counts = np.bincount(predicted_scores)\n",
        "\n",
        "# Making sure counts array lengths are the same\n",
        "max_length = max(len(actual_counts), len(predicted_counts))\n",
        "actual_counts = np.pad(actual_counts, (0, max_length - len(actual_counts)), mode='constant')\n",
        "predicted_counts = np.pad(predicted_counts, (0, max_length - len(predicted_counts)), mode='constant')\n",
        "\n",
        "score_labels = np.arange(max_length)\n",
        "\n",
        "# Plot histogram\n",
        "plt.figure(figsize=(10, 6))\n",
        "ax = plt.axes()\n",
        "\n",
        "plt.bar(score_labels - 0.15, actual_counts, width=0.3, label='Actual Scores', color='blue', align='center')\n",
        "plt.bar(score_labels + 0.15, predicted_counts, width=0.3, label='Predicted Scores', color='orange', align='center')\n",
        "\n",
        "plt.xlabel('Scores')\n",
        "plt.ylabel('Frequency')\n",
        "plt.title('Actual vs. Predicted Scores for Essay Set 4')\n",
        "plt.xticks(score_labels)\n",
        "plt.legend()\n",
        "plt.grid(True, axis='y')\n",
        "\n",
        "ax.spines['top'].set_visible(False)\n",
        "ax.spines['right'].set_visible(False)\n",
        "\n",
        "ax.set_axisbelow(True) # So that the lines don't cut through the bars\n",
        "plt.show()\n",
        "\n",
        "\n",
        "\n"
      ],
      "metadata": {
        "colab": {
          "base_uri": "https://localhost:8080/",
          "height": 564
        },
        "id": "PqAURPmHjXMI",
        "outputId": "3b035aef-5bb9-462a-8836-3483d818134a"
      },
      "execution_count": 38,
      "outputs": [
        {
          "output_type": "display_data",
          "data": {
            "text/plain": [
              "<Figure size 1000x600 with 1 Axes>"
            ],
            "image/png": "[encoded data removed]"
          },
          "metadata": {}
        }
      ]
    },
    {
      "cell_type": "code",
      "source": [
        "# narrative predicted histogram for set 3\n",
        "actual_scores = final_scores_set3['domain1_score'].astype(int)\n",
        "predicted_scores = final_scores_set3['narrative_predicted_domain1_score'].astype(int)\n",
        "\n",
        "# Counts for each score\n",
        "actual_counts = np.bincount(actual_scores)\n",
        "predicted_counts = np.bincount(predicted_scores)\n",
        "\n",
        "# Making sure counts array lengths are the same\n",
        "max_length = max(len(actual_counts), len(predicted_counts))\n",
        "actual_counts = np.pad(actual_counts, (0, max_length - len(actual_counts)), mode='constant')\n",
        "predicted_counts = np.pad(predicted_counts, (0, max_length - len(predicted_counts)), mode='constant')\n",
        "\n",
        "score_labels = np.arange(max_length)\n",
        "\n",
        "# Plot histogram\n",
        "plt.figure(figsize=(10, 6))\n",
        "ax = plt.axes()\n",
        "\n",
        "plt.bar(score_labels - 0.15, actual_counts, width=0.3, label='Actual Scores', color='blue', align='center')\n",
        "plt.bar(score_labels + 0.15, predicted_counts, width=0.3, label='Predicted Scores', color='orange', align='center')\n",
        "\n",
        "plt.xlabel('Scores')\n",
        "plt.ylabel('Frequency')\n",
        "#plt.title('Actual vs. Narrative Predicted Scores for Essay Set 3')\n",
        "plt.xticks(score_labels)\n",
        "plt.legend(loc='upper left')\n",
        "plt.grid(True, axis='y')\n",
        "\n",
        "ax.spines['top'].set_visible(False)\n",
        "ax.spines['right'].set_visible(False)\n",
        "\n",
        "ax.set_axisbelow(True) # So that the lines don't cut through the bars\n",
        "plt.ylim(0, 280) # so it will line up with the next plot\n",
        "plt.show()\n",
        "\n"
      ],
      "metadata": {
        "colab": {
          "base_uri": "https://localhost:8080/",
          "height": 542
        },
        "id": "PJVaUQFz1bSB",
        "outputId": "b5b57885-e035-4a14-f6f6-79d91f38d8db"
      },
      "execution_count": 88,
      "outputs": [
        {
          "output_type": "display_data",
          "data": {
            "text/plain": [
              "<Figure size 1000x600 with 1 Axes>"
            ],
            "image/png": "[encoded data removed]"
          },
          "metadata": {}
        }
      ]
    },
    {
      "cell_type": "code",
      "source": [
        "# narrative predicted histogram for set 4\n",
        "actual_scores = final_scores_set4['domain1_score'].astype(int)\n",
        "predicted_scores = final_scores_set4['narrative_predicted_domain1_score'].astype(int)\n",
        "\n",
        "# Counts for each score\n",
        "actual_counts = np.bincount(actual_scores)\n",
        "predicted_counts = np.bincount(predicted_scores)\n",
        "\n",
        "# Making sure counts array lengths are the same\n",
        "max_length = max(len(actual_counts), len(predicted_counts))\n",
        "actual_counts = np.pad(actual_counts, (0, max_length - len(actual_counts)), mode='constant')\n",
        "predicted_counts = np.pad(predicted_counts, (0, max_length - len(predicted_counts)), mode='constant')\n",
        "\n",
        "score_labels = np.arange(max_length)\n",
        "\n",
        "# Plot histogram\n",
        "plt.figure(figsize=(10, 6))\n",
        "ax = plt.axes()\n",
        "\n",
        "plt.bar(score_labels - 0.15, actual_counts, width=0.3, label='Actual Scores', color='blue', align='center')\n",
        "plt.bar(score_labels + 0.15, predicted_counts, width=0.3, label='Predicted Scores', color='orange', align='center')\n",
        "\n",
        "plt.xlabel('Scores')\n",
        "#plt.ylabel('Frequency')\n",
        "#plt.title('Actual vs. Narrative Predicted Scores for Essay Set 4')\n",
        "plt.xticks(score_labels)\n",
        "plt.grid(True, axis='y')\n",
        "\n",
        "ax.spines['top'].set_visible(False)\n",
        "ax.spines['right'].set_visible(False)\n",
        "\n",
        "ax.set_axisbelow(True) # So that the lines don't cut through the bars\n",
        "plt.show()\n",
        "\n"
      ],
      "metadata": {
        "colab": {
          "base_uri": "https://localhost:8080/",
          "height": 542
        },
        "id": "Lm49zetZ1emz",
        "outputId": "a878f1d8-7109-4bda-fe0b-7df8096abcdc"
      },
      "execution_count": 79,
      "outputs": [
        {
          "output_type": "display_data",
          "data": {
            "text/plain": [
              "<Figure size 1000x600 with 1 Axes>"
            ],
            "image/png": "[encoded data removed]"
          },
          "metadata": {}
        }
      ]
    },
    {
      "cell_type": "code",
      "source": [
        "# Writing a function to streamline the confusion matrices\n",
        "def print_confusion_matrix(actual, predicted, set_name, model_type):\n",
        "    cm = confusion_matrix(actual, predicted)\n",
        "    print(f\"Confusion Matrix for {model_type} in {set_name}:\")\n",
        "    print(cm)\n",
        "    print(\"\\n\")\n",
        "\n",
        "# Essay Set 3\n",
        "print_confusion_matrix(\n",
        "    final_scores_set3['domain1_score'],\n",
        "    final_scores_set3['predicted_domain1_score'],\n",
        "    \"Essay Set 3\", \"Source-Dependent Model\"\n",
        ")\n",
        "\n",
        "print_confusion_matrix(\n",
        "    final_scores_set3['domain1_score'],\n",
        "    final_scores_set3['narrative_predicted_domain1_score'],\n",
        "    \"Essay Set 3\", \"Narrative Model\"\n",
        ")\n",
        "\n",
        "# Essay Set 4\n",
        "print_confusion_matrix(\n",
        "    final_scores_set4['domain1_score'],\n",
        "    final_scores_set4['predicted_domain1_score'],\n",
        "    \"Essay Set 4\", \"Source-Dependent Model\"\n",
        ")\n",
        "\n",
        "print_confusion_matrix(\n",
        "    final_scores_set4['domain1_score'],\n",
        "    final_scores_set4['narrative_predicted_domain1_score'],\n",
        "    \"Essay Set 4\", \"Narrative Model\"\n",
        ")\n"
      ],
      "metadata": {
        "colab": {
          "base_uri": "https://localhost:8080/"
        },
        "id": "ZP-8B7XrER8h",
        "outputId": "9d2c820f-e69a-4983-8360-d88c004bd2e3"
      },
      "execution_count": 89,
      "outputs": [
        {
          "output_type": "stream",
          "name": "stdout",
          "text": [
            "Confusion Matrix for Source-Dependent Model in Essay Set 3:\n",
            "[[ 1  9  0  0]\n",
            " [ 0 71  9  0]\n",
            " [ 0 25 74  4]\n",
            " [ 0  0 38 28]]\n",
            "\n",
            "\n",
            "Confusion Matrix for Narrative Model in Essay Set 3:\n",
            "[[ 0  0  2  8]\n",
            " [ 0  0 10 70]\n",
            " [ 0  0  8 95]\n",
            " [ 0  0  1 65]]\n",
            "\n",
            "\n",
            "Confusion Matrix for Source-Dependent Model in Essay Set 4:\n",
            "[[29 26  1  0]\n",
            " [ 9 65 12  0]\n",
            " [ 0 10 60  4]\n",
            " [ 0  2 30 17]]\n",
            "\n",
            "\n",
            "Confusion Matrix for Narrative Model in Essay Set 4:\n",
            "[[ 0  0  2 54]\n",
            " [ 0  0  2 84]\n",
            " [ 0  0  0 74]\n",
            " [ 0  0  1 48]]\n",
            "\n",
            "\n"
          ]
        }
      ]
    },
    {
      "cell_type": "markdown",
      "source": [
        "I now move on to essays 5 and 6--they have an identical scoring logic."
      ],
      "metadata": {
        "id": "3_zKMMP7Fglf"
      }
    },
    {
      "cell_type": "code",
      "source": [
        "# Filtering for the relevant essays only\n",
        "filtered_df = final_sd_predictions_df[\n",
        "    final_sd_predictions_df['essay_set'].isin([5, 6])\n",
        "]\n",
        "\n",
        "# Pivoting from wide to long\n",
        "pivot_df = filtered_df.pivot_table(\n",
        "    index='essay_id',\n",
        "    columns='feature',\n",
        "    values='prediction',\n",
        "    aggfunc='first'\n",
        ").reset_index()\n",
        "\n",
        "# Repeating for the other predictions df (the one using the narrative model)\n",
        "filtered_narrative_df = final_sd_predictions_using_narrative_df[\n",
        "    final_sd_predictions_using_narrative_df['essay_set'].isin([5, 6])\n",
        "]\n",
        "\n",
        "narrative_pivot_df = filtered_narrative_df.pivot_table(\n",
        "    index='essay_id',\n",
        "    columns='feature',\n",
        "    values='prediction',\n",
        "    aggfunc='first'\n",
        ").reset_index()\n",
        "\n",
        "# Renaming columns for clarity\n",
        "pivot_df.rename(columns={\n",
        "    'score_type_rater1_domain1': 'predicted_rater1_domain1',\n",
        "    'score_type_rater2_domain1': 'predicted_rater2_domain1'\n",
        "}, inplace=True)\n",
        "\n",
        "narrative_pivot_df.rename(columns={\n",
        "    'score_type_rater1_domain1': 'narrative_predicted_rater1_domain1',\n",
        "    'score_type_rater2_domain1': 'narrative_predicted_rater2_domain1'\n",
        "}, inplace=True)\n",
        "\n",
        "\n"
      ],
      "metadata": {
        "id": "43grsx1PsKTa"
      },
      "execution_count": 42,
      "outputs": []
    },
    {
      "cell_type": "markdown",
      "source": [
        "The scoring logic for these essays is that the resolved score is simply the maximum of the two raters. There is no special non-adjacency case."
      ],
      "metadata": {
        "id": "oCJV5dBsF0D9"
      }
    },
    {
      "cell_type": "code",
      "source": [
        "# Calculating resolved scores\n",
        "pivot_df['predicted_domain1_score'] = pivot_df[['predicted_rater1_domain1', 'predicted_rater2_domain1']].max(axis=1)\n",
        "narrative_pivot_df['narrative_predicted_domain1_score'] = narrative_pivot_df[['narrative_predicted_rater1_domain1', 'narrative_predicted_rater2_domain1']].max(axis=1)\n"
      ],
      "metadata": {
        "id": "ZE2XoZ0b-4w0"
      },
      "execution_count": 43,
      "outputs": []
    },
    {
      "cell_type": "code",
      "source": [
        "# We only want actual scores for essays 5 and 6\n",
        "set_data = test_sd_model_input[test_sd_model_input['essay_set'].isin([5, 6])]\n",
        "\n",
        "# Aggregating so that there's one row per essay id\n",
        "aggregated_scores_set56 = set_data.groupby('essay_id').agg({\n",
        "    'essay_set': 'first',\n",
        "    'rater1_domain1': 'max',\n",
        "    'rater2_domain1': 'max',\n",
        "    'domain1_score': 'first'\n",
        "}).reset_index()\n",
        "\n",
        "# Merging all the dfs\n",
        "final_scores_set56 = pd.merge(aggregated_scores_set56, pivot_df, on='essay_id', how='left')\n",
        "final_scores_set56 = pd.merge(final_scores_set56, narrative_pivot_df, on='essay_id', how='left')\n",
        "\n",
        "# Splitting the merged df into 2 based on the essay set number\n",
        "final_scores_set5 = final_scores_set56[final_scores_set56['essay_set'] == 5]\n",
        "final_scores_set6 = final_scores_set56[final_scores_set56['essay_set'] == 6]\n"
      ],
      "metadata": {
        "id": "NEenPpC1_1Mi"
      },
      "execution_count": 44,
      "outputs": []
    },
    {
      "cell_type": "code",
      "source": [
        "calculate_qwk_scores(final_scores_set5, \"Essay Set 5\")\n",
        "calculate_qwk_scores(final_scores_set6, \"Essay Set 6\")"
      ],
      "metadata": {
        "colab": {
          "base_uri": "https://localhost:8080/"
        },
        "id": "rUbrG26M-42u",
        "outputId": "b56d6b29-d41e-48c4-bc22-36655f5b4ab3"
      },
      "execution_count": 45,
      "outputs": [
        {
          "output_type": "stream",
          "name": "stdout",
          "text": [
            "Results for Essay Set 5:\n",
            "QWK for Rater1: 0.782486555903363\n",
            "Narrative QWK for Rater1: 0.12928194726166342\n",
            "QWK for Rater2: 0.8247117608059378\n",
            "Narrative QWK for Rater2: 0.13107390139252473\n",
            "QWK for Domain1 Score: 0.8110750217856294\n",
            "Narrative QWK for Domain1 Score: 0.1550850213270596\n",
            "Human Raters QWK for Domain1 Score: 0.746338959509647\n",
            "\n",
            "\n",
            "Results for Essay Set 6:\n",
            "QWK for Rater1: 0.7265948632974317\n",
            "Narrative QWK for Rater1: 0.20019748210318433\n",
            "QWK for Rater2: 0.7100085543199315\n",
            "Narrative QWK for Rater2: 0.17518098269754068\n",
            "QWK for Domain1 Score: 0.7085524494879601\n",
            "Narrative QWK for Domain1 Score: 0.24276058906308828\n",
            "Human Raters QWK for Domain1 Score: 0.7727620504973222\n",
            "\n",
            "\n"
          ]
        }
      ]
    },
    {
      "cell_type": "code",
      "source": [
        "# Histogram for 5\n",
        "actual_scores = final_scores_set5['domain1_score'].astype(int)\n",
        "predicted_scores = final_scores_set5['predicted_domain1_score'].astype(int)\n",
        "\n",
        "# Counts for each score\n",
        "actual_counts = np.bincount(actual_scores)\n",
        "predicted_counts = np.bincount(predicted_scores)\n",
        "\n",
        "# Making sure counts array lengths are the same\n",
        "max_length = max(len(actual_counts), len(predicted_counts))\n",
        "actual_counts = np.pad(actual_counts, (0, max_length - len(actual_counts)), mode='constant')\n",
        "predicted_counts = np.pad(predicted_counts, (0, max_length - len(predicted_counts)), mode='constant')\n",
        "\n",
        "score_labels = np.arange(max_length)\n",
        "\n",
        "# Plot histogram\n",
        "plt.figure(figsize=(10, 6))\n",
        "ax = plt.axes()\n",
        "\n",
        "plt.bar(score_labels - 0.15, actual_counts, width=0.3, label='Actual Scores', color='blue', align='center')\n",
        "plt.bar(score_labels + 0.15, predicted_counts, width=0.3, label='Predicted Scores', color='orange', align='center')\n",
        "\n",
        "plt.xlabel('Scores')\n",
        "plt.ylabel('Frequency')\n",
        "plt.title('Actual vs. Predicted Scores for Essay Set 5')\n",
        "plt.xticks(score_labels)\n",
        "plt.legend()\n",
        "plt.grid(True, axis='y')\n",
        "\n",
        "ax.spines['top'].set_visible(False)\n",
        "ax.spines['right'].set_visible(False)\n",
        "\n",
        "ax.set_axisbelow(True) # So that the lines don't cut through the bars\n",
        "plt.show()\n"
      ],
      "metadata": {
        "colab": {
          "base_uri": "https://localhost:8080/",
          "height": 564
        },
        "id": "M7h0ieO8jjrU",
        "outputId": "c7ac86e6-2d58-4fd6-bae5-21d2424f36af"
      },
      "execution_count": 46,
      "outputs": [
        {
          "output_type": "display_data",
          "data": {
            "text/plain": [
              "<Figure size 1000x600 with 1 Axes>"
            ],
            "image/png": "[encoded data removed]"
          },
          "metadata": {}
        }
      ]
    },
    {
      "cell_type": "code",
      "source": [
        "# Histogram for 6\n",
        "actual_scores = final_scores_set6['domain1_score'].astype(int)\n",
        "predicted_scores = final_scores_set6['predicted_domain1_score'].astype(int)\n",
        "\n",
        "# Counts for each score\n",
        "actual_counts = np.bincount(actual_scores)\n",
        "predicted_counts = np.bincount(predicted_scores)\n",
        "\n",
        "# Making sure counts array lengths are the same\n",
        "max_length = max(len(actual_counts), len(predicted_counts))\n",
        "actual_counts = np.pad(actual_counts, (0, max_length - len(actual_counts)), mode='constant')\n",
        "predicted_counts = np.pad(predicted_counts, (0, max_length - len(predicted_counts)), mode='constant')\n",
        "\n",
        "score_labels = np.arange(max_length)\n",
        "\n",
        "# Plot histogram\n",
        "plt.figure(figsize=(10, 6))\n",
        "ax = plt.axes()\n",
        "\n",
        "plt.bar(score_labels - 0.15, actual_counts, width=0.3, label='Actual Scores', color='blue', align='center')\n",
        "plt.bar(score_labels + 0.15, predicted_counts, width=0.3, label='Predicted Scores', color='orange', align='center')\n",
        "\n",
        "plt.xlabel('Scores')\n",
        "plt.ylabel('Frequency')\n",
        "plt.title('Actual vs. Predicted Scores for Essay Set 6')\n",
        "plt.xticks(score_labels)\n",
        "plt.legend()\n",
        "plt.grid(True, axis='y')\n",
        "\n",
        "ax.spines['top'].set_visible(False)\n",
        "ax.spines['right'].set_visible(False)\n",
        "\n",
        "ax.set_axisbelow(True) # So that the lines don't cut through the bars\n",
        "plt.show()\n",
        "\n",
        "\n",
        "\n"
      ],
      "metadata": {
        "colab": {
          "base_uri": "https://localhost:8080/",
          "height": 564
        },
        "id": "39TaUUKXjuEM",
        "outputId": "936f12d0-10bf-45d1-bf80-3eafba97f53c"
      },
      "execution_count": 47,
      "outputs": [
        {
          "output_type": "display_data",
          "data": {
            "text/plain": [
              "<Figure size 1000x600 with 1 Axes>"
            ],
            "image/png": "[encoded data removed]"
          },
          "metadata": {}
        }
      ]
    },
    {
      "cell_type": "code",
      "source": [
        "# narrative histogram for 5\n",
        "actual_scores = final_scores_set5['domain1_score'].astype(int)\n",
        "predicted_scores = final_scores_set5['narrative_predicted_domain1_score'].astype(int)\n",
        "\n",
        "# Counts for each score\n",
        "actual_counts = np.bincount(actual_scores)\n",
        "predicted_counts = np.bincount(predicted_scores)\n",
        "\n",
        "# Making sure counts array lengths are the same\n",
        "max_length = max(len(actual_counts), len(predicted_counts))\n",
        "actual_counts = np.pad(actual_counts, (0, max_length - len(actual_counts)), mode='constant')\n",
        "predicted_counts = np.pad(predicted_counts, (0, max_length - len(predicted_counts)), mode='constant')\n",
        "\n",
        "score_labels = np.arange(max_length)\n",
        "\n",
        "# Plot histogram\n",
        "plt.figure(figsize=(10, 6))\n",
        "ax = plt.axes()\n",
        "\n",
        "plt.bar(score_labels - 0.15, actual_counts, width=0.3, label='Actual Scores', color='blue', align='center')\n",
        "plt.bar(score_labels + 0.15, predicted_counts, width=0.3, label='Predicted Scores', color='orange', align='center')\n",
        "\n",
        "plt.xlabel('Scores')\n",
        "plt.ylabel('Frequency')\n",
        "plt.title('Actual vs. Narrative Predicted Scores for Essay Set 5')\n",
        "plt.xticks(score_labels)\n",
        "plt.legend()\n",
        "plt.grid(True, axis='y')\n",
        "\n",
        "ax.spines['top'].set_visible(False)\n",
        "ax.spines['right'].set_visible(False)\n",
        "\n",
        "ax.set_axisbelow(True) # So that the lines don't cut through the bars\n",
        "plt.show()\n"
      ],
      "metadata": {
        "colab": {
          "base_uri": "https://localhost:8080/",
          "height": 564
        },
        "id": "Fw6A7D1F1mFr",
        "outputId": "dad3a7d3-0936-4907-ce4e-5becc1e18aca"
      },
      "execution_count": 48,
      "outputs": [
        {
          "output_type": "display_data",
          "data": {
            "text/plain": [
              "<Figure size 1000x600 with 1 Axes>"
            ],
            "image/png": "[encoded data removed]"
          },
          "metadata": {}
        }
      ]
    },
    {
      "cell_type": "code",
      "source": [
        "# narrative histogram for 5\n",
        "actual_scores = final_scores_set6['domain1_score'].astype(int)\n",
        "predicted_scores = final_scores_set6['narrative_predicted_domain1_score'].astype(int)\n",
        "\n",
        "# Counts for each score\n",
        "actual_counts = np.bincount(actual_scores)\n",
        "predicted_counts = np.bincount(predicted_scores)\n",
        "\n",
        "# Making sure counts array lengths are the same\n",
        "max_length = max(len(actual_counts), len(predicted_counts))\n",
        "actual_counts = np.pad(actual_counts, (0, max_length - len(actual_counts)), mode='constant')\n",
        "predicted_counts = np.pad(predicted_counts, (0, max_length - len(predicted_counts)), mode='constant')\n",
        "\n",
        "score_labels = np.arange(max_length)\n",
        "\n",
        "# Plot histogram\n",
        "plt.figure(figsize=(10, 6))\n",
        "ax = plt.axes()\n",
        "\n",
        "plt.bar(score_labels - 0.15, actual_counts, width=0.3, label='Actual Scores', color='blue', align='center')\n",
        "plt.bar(score_labels + 0.15, predicted_counts, width=0.3, label='Predicted Scores', color='orange', align='center')\n",
        "\n",
        "plt.xlabel('Scores')\n",
        "plt.ylabel('Frequency')\n",
        "plt.title('Actual vs. Narrative Predicted Scores for Essay Set 6')\n",
        "plt.xticks(score_labels)\n",
        "plt.legend()\n",
        "plt.grid(True, axis='y')\n",
        "\n",
        "ax.spines['top'].set_visible(False)\n",
        "ax.spines['right'].set_visible(False)\n",
        "\n",
        "ax.set_axisbelow(True) # So that the lines don't cut through the bars\n",
        "plt.show()\n"
      ],
      "metadata": {
        "colab": {
          "base_uri": "https://localhost:8080/",
          "height": 564
        },
        "id": "2kcD57Un1wY4",
        "outputId": "5a5487c2-3b21-4aaa-abe7-47d93cd7cb4c"
      },
      "execution_count": 49,
      "outputs": [
        {
          "output_type": "display_data",
          "data": {
            "text/plain": [
              "<Figure size 1000x600 with 1 Axes>"
            ],
            "image/png": "[encoded data removed]"
          },
          "metadata": {}
        }
      ]
    },
    {
      "cell_type": "code",
      "source": [
        "# Essay Set 5\n",
        "print_confusion_matrix(\n",
        "    final_scores_set5['domain1_score'],\n",
        "    final_scores_set5['predicted_domain1_score'],\n",
        "    \"Essay Set 5\", \"Source-Dependent Model\"\n",
        ")\n",
        "\n",
        "print_confusion_matrix(\n",
        "    final_scores_set5['domain1_score'],\n",
        "    final_scores_set5['narrative_predicted_domain1_score'],\n",
        "    \"Essay Set 5\", \"Narrative Model\"\n",
        ")\n",
        "\n",
        "# Essay Set 6\n",
        "print_confusion_matrix(\n",
        "    final_scores_set6['domain1_score'],\n",
        "    final_scores_set6['predicted_domain1_score'],\n",
        "    \"Essay Set 6\", \"Source-Dependent Model\"\n",
        ")\n",
        "\n",
        "print_confusion_matrix(\n",
        "    final_scores_set6['domain1_score'],\n",
        "    final_scores_set6['narrative_predicted_domain1_score'],\n",
        "    \"Essay Set 6\", \"Narrative Model\"\n",
        ")\n"
      ],
      "metadata": {
        "colab": {
          "base_uri": "https://localhost:8080/"
        },
        "id": "nAbAzy_NHuin",
        "outputId": "a69dc340-381f-47ff-a1ae-1867fb2bb0ac"
      },
      "execution_count": 90,
      "outputs": [
        {
          "output_type": "stream",
          "name": "stdout",
          "text": [
            "Confusion Matrix for Source-Dependent Model in Essay Set 5:\n",
            "[[ 2  2  0  0  0]\n",
            " [ 4 34  4  0  0]\n",
            " [ 0 19 82  5  0]\n",
            " [ 0  0 26 56  3]\n",
            " [ 0  0  1 21 12]]\n",
            "\n",
            "\n",
            "Confusion Matrix for Narrative Model in Essay Set 5:\n",
            "[[  0   0   0   4   0]\n",
            " [  0   0   3  39   0]\n",
            " [  0   0   0 106   0]\n",
            " [  0   0   0  80   5]\n",
            " [  0   0   0  20  14]]\n",
            "\n",
            "\n",
            "Confusion Matrix for Source-Dependent Model in Essay Set 6:\n",
            "[[  3   0   0   0   0]\n",
            " [  4  12   2   2   1]\n",
            " [  0  10  36  14   0]\n",
            " [  0   1  13 112   5]\n",
            " [  0   0   0  48   7]]\n",
            "\n",
            "\n",
            "Confusion Matrix for Narrative Model in Essay Set 6:\n",
            "[[ 0  0  0  3  0  0]\n",
            " [ 0  0  0 18  3  0]\n",
            " [ 0  0  0 52  8  0]\n",
            " [ 0  0  0 77 54  0]\n",
            " [ 0  0  0 18 36  1]\n",
            " [ 0  0  0  0  0  0]]\n",
            "\n",
            "\n"
          ]
        }
      ]
    },
    {
      "cell_type": "markdown",
      "source": [
        "## Narrative essays\n",
        "\n",
        "We move now to the narrative essays. Again, the process is identical in structure. In fact, it's even simpler; while previously test data was evaluated on their standard model (i.e. persuasive test data evaluated using the model trained on persuasive essays) as well as the narrative model, this test data is only evaluated using the model trained on narrative essays. It's quite curious how this model will perform given how poorly it performed for essays of other types.\n",
        "\n",
        "Essay set 7 is considered first."
      ],
      "metadata": {
        "id": "htlGsCwOJHhS"
      }
    },
    {
      "cell_type": "code",
      "source": [
        "test_narrative_model_input = pd.read_csv('s3://698modeldata/test_narrative_model_input.csv')\n",
        "final_narrative_predictions_df = pd.read_csv('s3://698modelpredictions/final_narrative_predictions_df.csv')"
      ],
      "metadata": {
        "id": "m--drzA9Jdoj"
      },
      "execution_count": 51,
      "outputs": []
    },
    {
      "cell_type": "code",
      "source": [
        "# Creating mapping df to associate essay ids with their essay set\n",
        "essay_set_mapping = test_narrative_model_input[['essay_id', 'essay_set']].drop_duplicates()\n",
        "\n",
        "# Merging to add essay set to the predictions dataframe\n",
        "final_narrative_predictions_df = pd.merge(\n",
        "    final_narrative_predictions_df,\n",
        "    essay_set_mapping,\n",
        "    on='essay_id',\n",
        "    how='left'\n",
        ")\n",
        "\n",
        "# Filtering to only look at essay set 7\n",
        "filtered_df = final_narrative_predictions_df[\n",
        "    final_narrative_predictions_df['essay_set'] == 7\n",
        "]\n",
        "\n",
        "# Pivoting from long to wide so that each row represents one observation (essay)\n",
        "pivot_df = filtered_df.pivot_table(\n",
        "    index='essay_id',\n",
        "    columns='feature',\n",
        "    values='prediction',\n",
        "    aggfunc='first'\n",
        ").reset_index()\n",
        "\n",
        "\n"
      ],
      "metadata": {
        "id": "haiGnmL7Jd0T"
      },
      "execution_count": 52,
      "outputs": []
    },
    {
      "cell_type": "code",
      "source": [
        "pivot_df.columns"
      ],
      "metadata": {
        "colab": {
          "base_uri": "https://localhost:8080/"
        },
        "id": "2YZQO7hYL4XO",
        "outputId": "d80ca096-9f65-44dc-8c88-dd2ec847f080"
      },
      "execution_count": 53,
      "outputs": [
        {
          "output_type": "execute_result",
          "data": {
            "text/plain": [
              "Index(['essay_id', 'score_type_rater1_trait1', 'score_type_rater1_trait2',\n",
              "       'score_type_rater1_trait3', 'score_type_rater1_trait4',\n",
              "       'score_type_rater2_trait1', 'score_type_rater2_trait2',\n",
              "       'score_type_rater2_trait3', 'score_type_rater2_trait4'],\n",
              "      dtype='object', name='feature')"
            ]
          },
          "metadata": {},
          "execution_count": 53
        }
      ]
    },
    {
      "cell_type": "markdown",
      "source": [
        "The scoring logic for essay 7 is that the resolved score is the sum of the two raters' scores which are the sums of the scores they give for the four traits."
      ],
      "metadata": {
        "id": "mhSFdZqZKidT"
      }
    },
    {
      "cell_type": "code",
      "source": [
        "def calculate_resolved_scores(df):\n",
        "    df['predicted_rater1_resolved'] = df[['score_type_rater1_trait1', 'score_type_rater1_trait2', 'score_type_rater1_trait3', 'score_type_rater1_trait4']].sum(axis=1)\n",
        "    df['predicted_rater2_resolved'] = df[['score_type_rater2_trait1', 'score_type_rater2_trait2', 'score_type_rater2_trait3', 'score_type_rater2_trait4']].sum(axis=1)\n",
        "    df['predicted_final_resolved'] = df['predicted_rater1_resolved'] + df['predicted_rater2_resolved']\n",
        "    return df\n",
        "\n",
        "pivot_df = calculate_resolved_scores(pivot_df)\n"
      ],
      "metadata": {
        "id": "woxefUcKJd5B"
      },
      "execution_count": 54,
      "outputs": []
    },
    {
      "cell_type": "code",
      "source": [
        "# Renaming for clarity\n",
        "pivot_df.rename(columns={\n",
        "    'score_type_rater1_trait1': 'predicted_rater1_trait1',\n",
        "    'score_type_rater1_trait2': 'predicted_rater1_trait2',\n",
        "    'score_type_rater1_trait3': 'predicted_rater1_trait3',\n",
        "    'score_type_rater1_trait4': 'predicted_rater1_trait4',\n",
        "    'score_type_rater2_trait1': 'predicted_rater2_trait1',\n",
        "    'score_type_rater2_trait2': 'predicted_rater2_trait2',\n",
        "    'score_type_rater2_trait3': 'predicted_rater2_trait3',\n",
        "    'score_type_rater2_trait4': 'predicted_rater2_trait4'\n",
        "}, inplace=True)\n"
      ],
      "metadata": {
        "id": "IkylbUlL-5Cx"
      },
      "execution_count": 55,
      "outputs": []
    },
    {
      "cell_type": "code",
      "source": [
        "# filtering the actual score data to only consider essay set 7\n",
        "set_data = test_narrative_model_input[test_narrative_model_input['essay_set'] == 7]\n",
        "\n",
        "# Aggregating so that each essay is on one row\n",
        "aggregated_scores_set7 = set_data.groupby('essay_id').agg({\n",
        "    'essay_set': 'first',\n",
        "    'rater1_trait1': 'max',\n",
        "    'rater1_trait2': 'max',\n",
        "    'rater1_trait3': 'max',\n",
        "    'rater1_trait4': 'max',\n",
        "    'rater2_trait1': 'max',\n",
        "    'rater2_trait2': 'max',\n",
        "    'rater2_trait3': 'max',\n",
        "    'rater2_trait4': 'max',\n",
        "    'rater1_domain1': 'max',\n",
        "    'rater2_domain1': 'max',\n",
        "    'domain1_score': 'max'\n",
        "}).reset_index()\n",
        "\n",
        "print(aggregated_scores_set7.head())\n"
      ],
      "metadata": {
        "colab": {
          "base_uri": "https://localhost:8080/"
        },
        "id": "ikUo6tVl-5IC",
        "outputId": "a621a50c-2c13-46d4-e0ad-7e73e4a319a1"
      },
      "execution_count": 56,
      "outputs": [
        {
          "output_type": "stream",
          "name": "stdout",
          "text": [
            "   essay_id  essay_set  rater1_trait1  rater1_trait2  rater1_trait3  \\\n",
            "0     17834          7            1.0            2.0            2.0   \n",
            "1     17840          7            2.0            3.0            3.0   \n",
            "2     17846          7            2.0            2.0            3.0   \n",
            "3     17850          7            2.0            1.0            1.0   \n",
            "4     17867          7            2.0            2.0            2.0   \n",
            "\n",
            "   rater1_trait4  rater2_trait1  rater2_trait2  rater2_trait3  rater2_trait4  \\\n",
            "0            3.0            1.0            2.0            2.0            2.0   \n",
            "1            3.0            3.0            3.0            3.0            3.0   \n",
            "2            2.0            2.0            2.0            3.0            3.0   \n",
            "3            1.0            2.0            2.0            1.0            2.0   \n",
            "4            2.0            2.0            2.0            2.0            2.0   \n",
            "\n",
            "   rater1_domain1  rater2_domain1  domain1_score  \n",
            "0             8.0             7.0           15.0  \n",
            "1            11.0            12.0           23.0  \n",
            "2             9.0            10.0           19.0  \n",
            "3             5.0             7.0           12.0  \n",
            "4             8.0             8.0           16.0  \n"
          ]
        }
      ]
    },
    {
      "cell_type": "code",
      "source": [
        "final_scores_set7 = pd.merge(aggregated_scores_set7, pivot_df, on='essay_id', how='left') # merging actual scores with predictions"
      ],
      "metadata": {
        "id": "KtGjx617Owrb"
      },
      "execution_count": 57,
      "outputs": []
    },
    {
      "cell_type": "code",
      "source": [
        "final_scores_set7.columns"
      ],
      "metadata": {
        "colab": {
          "base_uri": "https://localhost:8080/"
        },
        "id": "byOsJJ2ZOwuh",
        "outputId": "7fb6b6da-ad16-4047-bcd6-fab3ccb26e45"
      },
      "execution_count": 58,
      "outputs": [
        {
          "output_type": "execute_result",
          "data": {
            "text/plain": [
              "Index(['essay_id', 'essay_set', 'rater1_trait1', 'rater1_trait2',\n",
              "       'rater1_trait3', 'rater1_trait4', 'rater2_trait1', 'rater2_trait2',\n",
              "       'rater2_trait3', 'rater2_trait4', 'rater1_domain1', 'rater2_domain1',\n",
              "       'domain1_score', 'predicted_rater1_trait1', 'predicted_rater1_trait2',\n",
              "       'predicted_rater1_trait3', 'predicted_rater1_trait4',\n",
              "       'predicted_rater2_trait1', 'predicted_rater2_trait2',\n",
              "       'predicted_rater2_trait3', 'predicted_rater2_trait4',\n",
              "       'predicted_rater1_resolved', 'predicted_rater2_resolved',\n",
              "       'predicted_final_resolved'],\n",
              "      dtype='object')"
            ]
          },
          "metadata": {},
          "execution_count": 58
        }
      ]
    },
    {
      "cell_type": "code",
      "source": [
        "# Function to calculate QWK scores for set 7\n",
        "def calculate_qwk_scores(pairs):\n",
        "    results = {}\n",
        "    for actual, predicted in pairs:\n",
        "        score = cohen_kappa_score(\n",
        "            final_scores_set7[actual],\n",
        "            final_scores_set7[predicted],\n",
        "            weights='quadratic'\n",
        "        )\n",
        "        results[f'QWK between {actual} and {predicted}'] = score\n",
        "    return results # i.e. the dictionary with the results\n",
        "\n",
        "# Traits and their predictions for raters 1 and 2\n",
        "trait_pairs = [\n",
        "    ('rater1_trait1', 'predicted_rater1_trait1'),\n",
        "    ('rater1_trait2', 'predicted_rater1_trait2'),\n",
        "    ('rater1_trait3', 'predicted_rater1_trait3'),\n",
        "    ('rater1_trait4', 'predicted_rater1_trait4'),\n",
        "    ('rater2_trait1', 'predicted_rater2_trait1'),\n",
        "    ('rater2_trait2', 'predicted_rater2_trait2'),\n",
        "    ('rater2_trait3', 'predicted_rater2_trait3'),\n",
        "    ('rater2_trait4', 'predicted_rater2_trait4'),\n",
        "    ('rater1_domain1', 'predicted_rater1_resolved'),\n",
        "    ('rater2_domain1', 'predicted_rater2_resolved'),\n",
        "    ('domain1_score', 'predicted_final_resolved')\n",
        "]\n",
        "results = calculate_qwk_scores(trait_pairs)\n",
        "\n",
        "# Also want to compare the two raters\n",
        "rater_comparison_pairs = [\n",
        "    ('rater1_trait1', 'rater2_trait1'),\n",
        "    ('rater1_trait2', 'rater2_trait2'),\n",
        "    ('rater1_trait3', 'rater2_trait3'),\n",
        "    ('rater1_trait4', 'rater2_trait4'),\n",
        "    ('rater1_domain1', 'rater2_domain1')\n",
        "]\n",
        "\n",
        "rater_results = calculate_qwk_scores(rater_comparison_pairs)\n",
        "\n",
        "# Combine two dictionaries, print\n",
        "all_results = {**results, **rater_results}\n",
        "for key, value in all_results.items():\n",
        "    print(f\"{key}: {value:.3f}\")\n"
      ],
      "metadata": {
        "colab": {
          "base_uri": "https://localhost:8080/"
        },
        "id": "eJ4f4qZ4Ow1R",
        "outputId": "1d8acecd-c035-4f0c-93ec-8109d49d31d9"
      },
      "execution_count": 59,
      "outputs": [
        {
          "output_type": "stream",
          "name": "stdout",
          "text": [
            "QWK between rater1_trait1 and predicted_rater1_trait1: 0.688\n",
            "QWK between rater1_trait2 and predicted_rater1_trait2: 0.578\n",
            "QWK between rater1_trait3 and predicted_rater1_trait3: 0.554\n",
            "QWK between rater1_trait4 and predicted_rater1_trait4: 0.636\n",
            "QWK between rater2_trait1 and predicted_rater2_trait1: 0.723\n",
            "QWK between rater2_trait2 and predicted_rater2_trait2: 0.625\n",
            "QWK between rater2_trait3 and predicted_rater2_trait3: 0.689\n",
            "QWK between rater2_trait4 and predicted_rater2_trait4: 0.590\n",
            "QWK between rater1_domain1 and predicted_rater1_resolved: 0.757\n",
            "QWK between rater2_domain1 and predicted_rater2_resolved: 0.776\n",
            "QWK between domain1_score and predicted_final_resolved: 0.818\n",
            "QWK between rater1_trait1 and rater2_trait1: 0.733\n",
            "QWK between rater1_trait2 and rater2_trait2: 0.584\n",
            "QWK between rater1_trait3 and rater2_trait3: 0.636\n",
            "QWK between rater1_trait4 and rater2_trait4: 0.608\n",
            "QWK between rater1_domain1 and rater2_domain1: 0.751\n"
          ]
        }
      ]
    },
    {
      "cell_type": "code",
      "source": [
        "# Histogram for 7\n",
        "actual_scores = final_scores_set7['domain1_score'].astype(int)\n",
        "predicted_scores = final_scores_set7['predicted_final_resolved'].astype(int)\n",
        "\n",
        "# Counts for each score\n",
        "actual_counts = np.bincount(actual_scores)\n",
        "predicted_counts = np.bincount(predicted_scores)\n",
        "\n",
        "# Making sure counts array lengths are the same\n",
        "max_length = max(len(actual_counts), len(predicted_counts))\n",
        "actual_counts = np.pad(actual_counts, (0, max_length - len(actual_counts)), mode='constant')\n",
        "predicted_counts = np.pad(predicted_counts, (0, max_length - len(predicted_counts)), mode='constant')\n",
        "\n",
        "score_labels = np.arange(max_length)\n",
        "\n",
        "# Plot histogram\n",
        "plt.figure(figsize=(10, 6))\n",
        "ax = plt.axes()\n",
        "\n",
        "plt.bar(score_labels - 0.15, actual_counts, width=0.3, label='Actual Scores', color='blue', align='center')\n",
        "plt.bar(score_labels + 0.15, predicted_counts, width=0.3, label='Predicted Scores', color='orange', align='center')\n",
        "\n",
        "plt.xlabel('Scores')\n",
        "plt.ylabel('Frequency')\n",
        "plt.title('Actual vs. Predicted Scores for Essay Set 7')\n",
        "plt.xticks(score_labels)\n",
        "plt.legend()\n",
        "plt.grid(True, axis='y')\n",
        "\n",
        "ax.spines['top'].set_visible(False)\n",
        "ax.spines['right'].set_visible(False)\n",
        "\n",
        "ax.set_axisbelow(True) # So that the lines don't cut through the bars\n",
        "plt.show()\n",
        "\n",
        "\n",
        "\n"
      ],
      "metadata": {
        "colab": {
          "base_uri": "https://localhost:8080/",
          "height": 564
        },
        "id": "LrHA-3-8kram",
        "outputId": "69d221e4-1cd0-461c-ca93-524a7db1a0d9"
      },
      "execution_count": 60,
      "outputs": [
        {
          "output_type": "display_data",
          "data": {
            "text/plain": [
              "<Figure size 1000x600 with 1 Axes>"
            ],
            "image/png": "[encoded data removed]"
          },
          "metadata": {}
        }
      ]
    },
    {
      "cell_type": "code",
      "source": [
        "# Printing confusion matrix\n",
        "print_confusion_matrix(\n",
        "    final_scores_set7['domain1_score'],\n",
        "    final_scores_set7['predicted_final_resolved'],\n",
        "    \"Essay Set 7\", \"Performance\"\n",
        ")"
      ],
      "metadata": {
        "colab": {
          "base_uri": "https://localhost:8080/"
        },
        "id": "55jcncYmMNDE",
        "outputId": "513c55ed-29bb-41f7-d274-db014409fe7c"
      },
      "execution_count": 61,
      "outputs": [
        {
          "output_type": "stream",
          "name": "stdout",
          "text": [
            "Confusion Matrix for Performance in Essay Set 7:\n",
            "[[ 0  0  0  0  1  0  0  0  0  0  0  0  0  0  0  0  0  0  0  0  0  0]\n",
            " [ 0  0  0  0  1  0  0  0  0  0  0  0  0  0  0  0  0  0  0  0  0  0]\n",
            " [ 0  0  4  0  5  0  0  0  0  0  0  0  0  0  0  0  0  0  0  0  0  0]\n",
            " [ 0  0  1  0  2  0  0  0  0  0  0  0  0  0  0  0  0  0  0  0  0  0]\n",
            " [ 0  0  1  0  2  0  1  0  0  0  0  0  0  0  0  0  0  0  0  0  0  0]\n",
            " [ 0  0  0  0  6  0  1  0  1  0  0  0  4  0  0  0  0  0  0  0  0  0]\n",
            " [ 0  0  2  0  2  0  1  0  1  0  0  0  2  0  0  0  0  0  0  0  0  0]\n",
            " [ 0  0  0  0  2  0  3  0  0  0  1  0  4  0  0  0  1  0  0  0  0  0]\n",
            " [ 0  0  0  0  1  0  4  0  1  0  0  0 11  0  0  0  0  0  0  0  0  0]\n",
            " [ 0  0  0  0  0  0  0  0  2  0  1  0  6  0  0  0  0  0  0  0  0  0]\n",
            " [ 0  0  0  0  1  0  1  0  1  0  0  0  7  0  0  0  0  0  0  0  0  0]\n",
            " [ 0  0  0  0  1  0  2  0  0  0  0  0  9  0  1  0  0  0  1  0  0  0]\n",
            " [ 0  0  0  0  0  0  0  0  1  0  0  0 31  0  1  0  0  0  1  0  1  0]\n",
            " [ 0  0  0  0  0  0  0  0  0  0  0  0 17  0  2  0  1  0  0  0  3  0]\n",
            " [ 0  0  0  0  0  0  0  0  1  0  0  0  7  0  2  0  2  0  3  0  1  0]\n",
            " [ 0  0  0  0  0  0  0  0  0  0  0  0 11  0  4  0  1  0  0  0  2  0]\n",
            " [ 0  0  0  0  0  0  0  0  0  0  0  0  3  0  1  0  2  0  2  0  2  0]\n",
            " [ 0  0  0  0  0  0  0  0  0  0  0  0  1  0  0  0  0  0  1  0  6  0]\n",
            " [ 0  0  0  0  0  0  0  0  0  0  0  0  1  0  1  0  0  0  0  0  2  0]\n",
            " [ 0  0  0  0  0  0  0  0  0  0  0  0  0  0  0  0  0  0  1  0  4  0]\n",
            " [ 0  0  0  0  0  0  0  0  0  0  0  0  1  0  0  0  1  0  1  0 14  1]\n",
            " [ 0  0  0  0  0  0  0  0  0  0  0  0  0  0  0  0  0  0  0  0  0  0]]\n",
            "\n",
            "\n"
          ]
        }
      ]
    },
    {
      "cell_type": "code",
      "source": [
        "final_scores_set7['domain1_score'].describe()"
      ],
      "metadata": {
        "colab": {
          "base_uri": "https://localhost:8080/"
        },
        "id": "tP3683Ug7Uk4",
        "outputId": "50515c2f-4b91-4c6d-b6da-4932f12449bb"
      },
      "execution_count": 76,
      "outputs": [
        {
          "output_type": "execute_result",
          "data": {
            "text/plain": [
              "count    236.000000\n",
              "mean      15.593220\n",
              "std        4.763759\n",
              "min        4.000000\n",
              "25%       12.000000\n",
              "50%       16.000000\n",
              "75%       19.000000\n",
              "max       24.000000\n",
              "Name: domain1_score, dtype: float64"
            ]
          },
          "metadata": {},
          "execution_count": 76
        }
      ]
    },
    {
      "cell_type": "markdown",
      "source": [
        "Moving on to the final essay set--set 8."
      ],
      "metadata": {
        "id": "OJvHQrpvL4GU"
      }
    },
    {
      "cell_type": "code",
      "source": [
        "# filter to only include set 8\n",
        "filtered_df = final_narrative_predictions_df[\n",
        "    final_narrative_predictions_df['essay_set'] == 8\n",
        "]\n",
        "\n",
        "# Pivot from long to wide\n",
        "pivot_df = filtered_df.pivot_table(\n",
        "    index='essay_id',\n",
        "    columns='feature',\n",
        "    values='prediction',\n",
        "    aggfunc='first'\n",
        ").reset_index()\n",
        "\n",
        "\n",
        "\n"
      ],
      "metadata": {
        "id": "AirXbRG7lGYm"
      },
      "execution_count": 62,
      "outputs": []
    },
    {
      "cell_type": "code",
      "source": [
        "pivot_df.columns"
      ],
      "metadata": {
        "colab": {
          "base_uri": "https://localhost:8080/"
        },
        "id": "jVpH0E6xlGaf",
        "outputId": "729b15a7-103c-4d31-a2ce-443999e08f92"
      },
      "execution_count": 63,
      "outputs": [
        {
          "output_type": "execute_result",
          "data": {
            "text/plain": [
              "Index(['essay_id', 'score_type_rater1_trait1', 'score_type_rater1_trait2',\n",
              "       'score_type_rater1_trait5', 'score_type_rater1_trait6',\n",
              "       'score_type_rater2_trait1', 'score_type_rater2_trait2',\n",
              "       'score_type_rater2_trait5', 'score_type_rater2_trait6'],\n",
              "      dtype='object', name='feature')"
            ]
          },
          "metadata": {},
          "execution_count": 63
        }
      ]
    },
    {
      "cell_type": "markdown",
      "source": [
        "The scoring logic for this essay is a little more complex. The resolved score is again the sum of both raters' scores. Each rater's score is the sum of the scores they give for the four traits--however, the trait Conventions (this is trait6) is doubled. In other words, each rater's score is trait1 + trait2 + trait5 + 2(trait6)"
      ],
      "metadata": {
        "id": "Lp_2b3jgPE5D"
      }
    },
    {
      "cell_type": "code",
      "source": [
        "def calculate_resolved_scores(df):\n",
        "    trait_multipliers = {\n",
        "        'trait1': 1,\n",
        "        'trait2': 1,\n",
        "        'trait5': 1,\n",
        "        'trait6': 2  # trait6 needs to be added twice\n",
        "    }\n",
        "\n",
        "    # Calculate each rater's score\n",
        "    for rater in ['rater1', 'rater2']:\n",
        "        df[f'predicted_{rater}'] = sum(\n",
        "            df[f'score_type_{rater}_{trait}'] * multiplier\n",
        "            for trait, multiplier in trait_multipliers.items()\n",
        "        )\n",
        "\n",
        "    # Final resolved score calculated by summing both raters' scores\n",
        "    df['predicted_final_resolved'] = df['predicted_rater1'] + df['predicted_rater2']\n",
        "\n",
        "    return df\n",
        "\n",
        "pivot_df = calculate_resolved_scores(pivot_df)\n",
        "pivot_df.head()"
      ],
      "metadata": {
        "colab": {
          "base_uri": "https://localhost:8080/",
          "height": 226
        },
        "id": "9atlypOWP6PS",
        "outputId": "11f1404f-2b07-42b4-9d95-7658880b6050"
      },
      "execution_count": 64,
      "outputs": [
        {
          "output_type": "execute_result",
          "data": {
            "text/plain": [
              "feature  essay_id  score_type_rater1_trait1  score_type_rater1_trait2  \\\n",
              "0           20717                         4                         4   \n",
              "1           20721                         3                         3   \n",
              "2           20737                         4                         4   \n",
              "3           20745                         3                         3   \n",
              "4           20748                         4                         4   \n",
              "\n",
              "feature  score_type_rater1_trait5  score_type_rater1_trait6  \\\n",
              "0                               4                         4   \n",
              "1                               3                         3   \n",
              "2                               4                         3   \n",
              "3                               3                         3   \n",
              "4                               4                         3   \n",
              "\n",
              "feature  score_type_rater2_trait1  score_type_rater2_trait2  \\\n",
              "0                               4                         4   \n",
              "1                               3                         3   \n",
              "2                               4                         4   \n",
              "3                               3                         3   \n",
              "4                               4                         4   \n",
              "\n",
              "feature  score_type_rater2_trait5  score_type_rater2_trait6  predicted_rater1  \\\n",
              "0                               4                         4                20   \n",
              "1                               3                         3                15   \n",
              "2                               4                         3                18   \n",
              "3                               3                         3                15   \n",
              "4                               4                         3                18   \n",
              "\n",
              "feature  predicted_rater2  predicted_final_resolved  \n",
              "0                      20                        40  \n",
              "1                      15                        30  \n",
              "2                      18                        36  \n",
              "3                      15                        30  \n",
              "4                      18                        36  "
            ],
            "text/html": [
              "\n",
              "  <div id=\"df-bb5acccd-5ab4-430e-9894-9674d4a011a9\" class=\"colab-df-container\">\n",
              "    <div>\n",
              "<style scoped>\n",
              "    .dataframe tbody tr th:only-of-type {\n",
              "        vertical-align: middle;\n",
              "    }\n",
              "\n",
              "    .dataframe tbody tr th {\n",
              "        vertical-align: top;\n",
              "    }\n",
              "\n",
              "    .dataframe thead th {\n",
              "        text-align: right;\n",
              "    }\n",
              "</style>\n",
              "<table border=\"1\" class=\"dataframe\">\n",
              "  <thead>\n",
              "    <tr style=\"text-align: right;\">\n",
              "      <th>feature</th>\n",
              "      <th>essay_id</th>\n",
              "      <th>score_type_rater1_trait1</th>\n",
              "      <th>score_type_rater1_trait2</th>\n",
              "      <th>score_type_rater1_trait5</th>\n",
              "      <th>score_type_rater1_trait6</th>\n",
              "      <th>score_type_rater2_trait1</th>\n",
              "      <th>score_type_rater2_trait2</th>\n",
              "      <th>score_type_rater2_trait5</th>\n",
              "      <th>score_type_rater2_trait6</th>\n",
              "      <th>predicted_rater1</th>\n",
              "      <th>predicted_rater2</th>\n",
              "      <th>predicted_final_resolved</th>\n",
              "    </tr>\n",
              "  </thead>\n",
              "  <tbody>\n",
              "    <tr>\n",
              "      <th>0</th>\n",
              "      <td>20717</td>\n",
              "      <td>4</td>\n",
              "      <td>4</td>\n",
              "      <td>4</td>\n",
              "      <td>4</td>\n",
              "      <td>4</td>\n",
              "      <td>4</td>\n",
              "      <td>4</td>\n",
              "      <td>4</td>\n",
              "      <td>20</td>\n",
              "      <td>20</td>\n",
              "      <td>40</td>\n",
              "    </tr>\n",
              "    <tr>\n",
              "      <th>1</th>\n",
              "      <td>20721</td>\n",
              "      <td>3</td>\n",
              "      <td>3</td>\n",
              "      <td>3</td>\n",
              "      <td>3</td>\n",
              "      <td>3</td>\n",
              "      <td>3</td>\n",
              "      <td>3</td>\n",
              "      <td>3</td>\n",
              "      <td>15</td>\n",
              "      <td>15</td>\n",
              "      <td>30</td>\n",
              "    </tr>\n",
              "    <tr>\n",
              "      <th>2</th>\n",
              "      <td>20737</td>\n",
              "      <td>4</td>\n",
              "      <td>4</td>\n",
              "      <td>4</td>\n",
              "      <td>3</td>\n",
              "      <td>4</td>\n",
              "      <td>4</td>\n",
              "      <td>4</td>\n",
              "      <td>3</td>\n",
              "      <td>18</td>\n",
              "      <td>18</td>\n",
              "      <td>36</td>\n",
              "    </tr>\n",
              "    <tr>\n",
              "      <th>3</th>\n",
              "      <td>20745</td>\n",
              "      <td>3</td>\n",
              "      <td>3</td>\n",
              "      <td>3</td>\n",
              "      <td>3</td>\n",
              "      <td>3</td>\n",
              "      <td>3</td>\n",
              "      <td>3</td>\n",
              "      <td>3</td>\n",
              "      <td>15</td>\n",
              "      <td>15</td>\n",
              "      <td>30</td>\n",
              "    </tr>\n",
              "    <tr>\n",
              "      <th>4</th>\n",
              "      <td>20748</td>\n",
              "      <td>4</td>\n",
              "      <td>4</td>\n",
              "      <td>4</td>\n",
              "      <td>3</td>\n",
              "      <td>4</td>\n",
              "      <td>4</td>\n",
              "      <td>4</td>\n",
              "      <td>3</td>\n",
              "      <td>18</td>\n",
              "      <td>18</td>\n",
              "      <td>36</td>\n",
              "    </tr>\n",
              "  </tbody>\n",
              "</table>\n",
              "</div>\n",
              "    <div class=\"colab-df-buttons\">\n",
              "\n",
              "  <div class=\"colab-df-container\">\n",
              "    <button class=\"colab-df-convert\" onclick=\"convertToInteractive('df-bb5acccd-5ab4-430e-9894-9674d4a011a9')\"\n",
              "            title=\"Convert this dataframe to an interactive table.\"\n",
              "            style=\"display:none;\">\n",
              "\n",
              "  <svg xmlns=\"http://www.w3.org/2000/svg\" height=\"24px\" viewBox=\"0 -960 960 960\">\n",
              "    <path d=\"M120-120v-720h720v720H120Zm60-500h600v-160H180v160Zm220 220h160v-160H400v160Zm0 220h160v-160H400v160ZM180-400h160v-160H180v160Zm440 0h160v-160H620v160ZM180-180h160v-160H180v160Zm440 0h160v-160H620v160Z\"/>\n",
              "  </svg>\n",
              "    </button>\n",
              "\n",
              "  <style>\n",
              "    .colab-df-container {\n",
              "      display:flex;\n",
              "      gap: 12px;\n",
              "    }\n",
              "\n",
              "    .colab-df-convert {\n",
              "      background-color: #E8F0FE;\n",
              "      border: none;\n",
              "      border-radius: 50%;\n",
              "      cursor: pointer;\n",
              "      display: none;\n",
              "      fill: #1967D2;\n",
              "      height: 32px;\n",
              "      padding: 0 0 0 0;\n",
              "      width: 32px;\n",
              "    }\n",
              "\n",
              "    .colab-df-convert:hover {\n",
              "      background-color: #E2EBFA;\n",
              "      box-shadow: 0px 1px 2px rgba(60, 64, 67, 0.3), 0px 1px 3px 1px rgba(60, 64, 67, 0.15);\n",
              "      fill: #174EA6;\n",
              "    }\n",
              "\n",
              "    .colab-df-buttons div {\n",
              "      margin-bottom: 4px;\n",
              "    }\n",
              "\n",
              "    [theme=dark] .colab-df-convert {\n",
              "      background-color: #3B4455;\n",
              "      fill: #D2E3FC;\n",
              "    }\n",
              "\n",
              "    [theme=dark] .colab-df-convert:hover {\n",
              "      background-color: #434B5C;\n",
              "      box-shadow: 0px 1px 3px 1px rgba(0, 0, 0, 0.15);\n",
              "      filter: drop-shadow(0px 1px 2px rgba(0, 0, 0, 0.3));\n",
              "      fill: #FFFFFF;\n",
              "    }\n",
              "  </style>\n",
              "\n",
              "    <script>\n",
              "      const buttonEl =\n",
              "        document.querySelector('#df-bb5acccd-5ab4-430e-9894-9674d4a011a9 button.colab-df-convert');\n",
              "      buttonEl.style.display =\n",
              "        google.colab.kernel.accessAllowed ? 'block' : 'none';\n",
              "\n",
              "      async function convertToInteractive(key) {\n",
              "        const element = document.querySelector('#df-bb5acccd-5ab4-430e-9894-9674d4a011a9');\n",
              "        const dataTable =\n",
              "          await google.colab.kernel.invokeFunction('convertToInteractive',\n",
              "                                                    [key], {});\n",
              "        if (!dataTable) return;\n",
              "\n",
              "        const docLinkHtml = 'Like what you see? Visit the ' +\n",
              "          '<a target=\"_blank\" href=https://colab.research.google.com/notebooks/data_table.ipynb>data table notebook</a>'\n",
              "          + ' to learn more about interactive tables.';\n",
              "        element.innerHTML = '';\n",
              "        dataTable['output_type'] = 'display_data';\n",
              "        await google.colab.output.renderOutput(dataTable, element);\n",
              "        const docLink = document.createElement('div');\n",
              "        docLink.innerHTML = docLinkHtml;\n",
              "        element.appendChild(docLink);\n",
              "      }\n",
              "    </script>\n",
              "  </div>\n",
              "\n",
              "\n",
              "<div id=\"df-a8513a90-1037-4096-a19d-6bdac1371610\">\n",
              "  <button class=\"colab-df-quickchart\" onclick=\"quickchart('df-a8513a90-1037-4096-a19d-6bdac1371610')\"\n",
              "            title=\"Suggest charts\"\n",
              "            style=\"display:none;\">\n",
              "\n",
              "<svg xmlns=\"http://www.w3.org/2000/svg\" height=\"24px\"viewBox=\"0 0 24 24\"\n",
              "     width=\"24px\">\n",
              "    <g>\n",
              "        <path d=\"M19 3H5c-1.1 0-2 .9-2 2v14c0 1.1.9 2 2 2h14c1.1 0 2-.9 2-2V5c0-1.1-.9-2-2-2zM9 17H7v-7h2v7zm4 0h-2V7h2v10zm4 0h-2v-4h2v4z\"/>\n",
              "    </g>\n",
              "</svg>\n",
              "  </button>\n",
              "\n",
              "<style>\n",
              "  .colab-df-quickchart {\n",
              "      --bg-color: #E8F0FE;\n",
              "      --fill-color: #1967D2;\n",
              "      --hover-bg-color: #E2EBFA;\n",
              "      --hover-fill-color: #174EA6;\n",
              "      --disabled-fill-color: #AAA;\n",
              "      --disabled-bg-color: #DDD;\n",
              "  }\n",
              "\n",
              "  [theme=dark] .colab-df-quickchart {\n",
              "      --bg-color: #3B4455;\n",
              "      --fill-color: #D2E3FC;\n",
              "      --hover-bg-color: #434B5C;\n",
              "      --hover-fill-color: #FFFFFF;\n",
              "      --disabled-bg-color: #3B4455;\n",
              "      --disabled-fill-color: #666;\n",
              "  }\n",
              "\n",
              "  .colab-df-quickchart {\n",
              "    background-color: var(--bg-color);\n",
              "    border: none;\n",
              "    border-radius: 50%;\n",
              "    cursor: pointer;\n",
              "    display: none;\n",
              "    fill: var(--fill-color);\n",
              "    height: 32px;\n",
              "    padding: 0;\n",
              "    width: 32px;\n",
              "  }\n",
              "\n",
              "  .colab-df-quickchart:hover {\n",
              "    background-color: var(--hover-bg-color);\n",
              "    box-shadow: 0 1px 2px rgba(60, 64, 67, 0.3), 0 1px 3px 1px rgba(60, 64, 67, 0.15);\n",
              "    fill: var(--button-hover-fill-color);\n",
              "  }\n",
              "\n",
              "  .colab-df-quickchart-complete:disabled,\n",
              "  .colab-df-quickchart-complete:disabled:hover {\n",
              "    background-color: var(--disabled-bg-color);\n",
              "    fill: var(--disabled-fill-color);\n",
              "    box-shadow: none;\n",
              "  }\n",
              "\n",
              "  .colab-df-spinner {\n",
              "    border: 2px solid var(--fill-color);\n",
              "    border-color: transparent;\n",
              "    border-bottom-color: var(--fill-color);\n",
              "    animation:\n",
              "      spin 1s steps(1) infinite;\n",
              "  }\n",
              "\n",
              "  @keyframes spin {\n",
              "    0% {\n",
              "      border-color: transparent;\n",
              "      border-bottom-color: var(--fill-color);\n",
              "      border-left-color: var(--fill-color);\n",
              "    }\n",
              "    20% {\n",
              "      border-color: transparent;\n",
              "      border-left-color: var(--fill-color);\n",
              "      border-top-color: var(--fill-color);\n",
              "    }\n",
              "    30% {\n",
              "      border-color: transparent;\n",
              "      border-left-color: var(--fill-color);\n",
              "      border-top-color: var(--fill-color);\n",
              "      border-right-color: var(--fill-color);\n",
              "    }\n",
              "    40% {\n",
              "      border-color: transparent;\n",
              "      border-right-color: var(--fill-color);\n",
              "      border-top-color: var(--fill-color);\n",
              "    }\n",
              "    60% {\n",
              "      border-color: transparent;\n",
              "      border-right-color: var(--fill-color);\n",
              "    }\n",
              "    80% {\n",
              "      border-color: transparent;\n",
              "      border-right-color: var(--fill-color);\n",
              "      border-bottom-color: var(--fill-color);\n",
              "    }\n",
              "    90% {\n",
              "      border-color: transparent;\n",
              "      border-bottom-color: var(--fill-color);\n",
              "    }\n",
              "  }\n",
              "</style>\n",
              "\n",
              "  <script>\n",
              "    async function quickchart(key) {\n",
              "      const quickchartButtonEl =\n",
              "        document.querySelector('#' + key + ' button');\n",
              "      quickchartButtonEl.disabled = true;  // To prevent multiple clicks.\n",
              "      quickchartButtonEl.classList.add('colab-df-spinner');\n",
              "      try {\n",
              "        const charts = await google.colab.kernel.invokeFunction(\n",
              "            'suggestCharts', [key], {});\n",
              "      } catch (error) {\n",
              "        console.error('Error during call to suggestCharts:', error);\n",
              "      }\n",
              "      quickchartButtonEl.classList.remove('colab-df-spinner');\n",
              "      quickchartButtonEl.classList.add('colab-df-quickchart-complete');\n",
              "    }\n",
              "    (() => {\n",
              "      let quickchartButtonEl =\n",
              "        document.querySelector('#df-a8513a90-1037-4096-a19d-6bdac1371610 button');\n",
              "      quickchartButtonEl.style.display =\n",
              "        google.colab.kernel.accessAllowed ? 'block' : 'none';\n",
              "    })();\n",
              "  </script>\n",
              "</div>\n",
              "\n",
              "    </div>\n",
              "  </div>\n"
            ],
            "application/vnd.google.colaboratory.intrinsic+json": {
              "type": "dataframe",
              "variable_name": "pivot_df",
              "summary": "{\n  \"name\": \"pivot_df\",\n  \"rows\": 108,\n  \"fields\": [\n    {\n      \"column\": \"essay_id\",\n      \"properties\": {\n        \"dtype\": \"number\",\n        \"std\": 259,\n        \"min\": 20717,\n        \"max\": 21633,\n        \"num_unique_values\": 108,\n        \"samples\": [\n          21347,\n          20797,\n          20748\n        ],\n        \"semantic_type\": \"\",\n        \"description\": \"\"\n      }\n    },\n    {\n      \"column\": \"score_type_rater1_trait1\",\n      \"properties\": {\n        \"dtype\": \"number\",\n        \"std\": 0,\n        \"min\": 3,\n        \"max\": 5,\n        \"num_unique_values\": 3,\n        \"samples\": [\n          4,\n          3,\n          5\n        ],\n        \"semantic_type\": \"\",\n        \"description\": \"\"\n      }\n    },\n    {\n      \"column\": \"score_type_rater1_trait2\",\n      \"properties\": {\n        \"dtype\": \"number\",\n        \"std\": 0,\n        \"min\": 3,\n        \"max\": 4,\n        \"num_unique_values\": 2,\n        \"samples\": [\n          3,\n          4\n        ],\n        \"semantic_type\": \"\",\n        \"description\": \"\"\n      }\n    },\n    {\n      \"column\": \"score_type_rater1_trait5\",\n      \"properties\": {\n        \"dtype\": \"number\",\n        \"std\": 0,\n        \"min\": 3,\n        \"max\": 5,\n        \"num_unique_values\": 3,\n        \"samples\": [\n          4,\n          3\n        ],\n        \"semantic_type\": \"\",\n        \"description\": \"\"\n      }\n    },\n    {\n      \"column\": \"score_type_rater1_trait6\",\n      \"properties\": {\n        \"dtype\": \"number\",\n        \"std\": 0,\n        \"min\": 3,\n        \"max\": 5,\n        \"num_unique_values\": 3,\n        \"samples\": [\n          4,\n          3\n        ],\n        \"semantic_type\": \"\",\n        \"description\": \"\"\n      }\n    },\n    {\n      \"column\": \"score_type_rater2_trait1\",\n      \"properties\": {\n        \"dtype\": \"number\",\n        \"std\": 0,\n        \"min\": 3,\n        \"max\": 5,\n        \"num_unique_values\": 3,\n        \"samples\": [\n          4,\n          3\n        ],\n        \"semantic_type\": \"\",\n        \"description\": \"\"\n      }\n    },\n    {\n      \"column\": \"score_type_rater2_trait2\",\n      \"properties\": {\n        \"dtype\": \"number\",\n        \"std\": 0,\n        \"min\": 3,\n        \"max\": 4,\n        \"num_unique_values\": 2,\n        \"samples\": [\n          3,\n          4\n        ],\n        \"semantic_type\": \"\",\n        \"description\": \"\"\n      }\n    },\n    {\n      \"column\": \"score_type_rater2_trait5\",\n      \"properties\": {\n        \"dtype\": \"number\",\n        \"std\": 0,\n        \"min\": 3,\n        \"max\": 5,\n        \"num_unique_values\": 3,\n        \"samples\": [\n          4,\n          3\n        ],\n        \"semantic_type\": \"\",\n        \"description\": \"\"\n      }\n    },\n    {\n      \"column\": \"score_type_rater2_trait6\",\n      \"properties\": {\n        \"dtype\": \"number\",\n        \"std\": 0,\n        \"min\": 3,\n        \"max\": 5,\n        \"num_unique_values\": 3,\n        \"samples\": [\n          4,\n          3\n        ],\n        \"semantic_type\": \"\",\n        \"description\": \"\"\n      }\n    },\n    {\n      \"column\": \"predicted_rater1\",\n      \"properties\": {\n        \"dtype\": \"number\",\n        \"std\": 2,\n        \"min\": 15,\n        \"max\": 23,\n        \"num_unique_values\": 8,\n        \"samples\": [\n          15,\n          22\n        ],\n        \"semantic_type\": \"\",\n        \"description\": \"\"\n      }\n    },\n    {\n      \"column\": \"predicted_rater2\",\n      \"properties\": {\n        \"dtype\": \"number\",\n        \"std\": 2,\n        \"min\": 15,\n        \"max\": 23,\n        \"num_unique_values\": 8,\n        \"samples\": [\n          15,\n          22\n        ],\n        \"semantic_type\": \"\",\n        \"description\": \"\"\n      }\n    },\n    {\n      \"column\": \"predicted_final_resolved\",\n      \"properties\": {\n        \"dtype\": \"number\",\n        \"std\": 4,\n        \"min\": 30,\n        \"max\": 46,\n        \"num_unique_values\": 8,\n        \"samples\": [\n          30,\n          44\n        ],\n        \"semantic_type\": \"\",\n        \"description\": \"\"\n      }\n    }\n  ]\n}"
            }
          },
          "metadata": {},
          "execution_count": 64
        }
      ]
    },
    {
      "cell_type": "code",
      "source": [
        "# Creating a new df for the actual scores--only for set 8\n",
        "set_data = test_narrative_model_input[test_narrative_model_input['essay_set'] == 8]\n",
        "\n",
        "# Aggregating -- one row per essay_id\n",
        "aggregated_scores_set8 = set_data.groupby('essay_id').agg({\n",
        "    'essay_set': 'first',\n",
        "    'rater1_trait1': 'max',\n",
        "    'rater1_trait2': 'max',\n",
        "    'rater1_trait5': 'max',\n",
        "    'rater1_trait6': 'max',\n",
        "    'rater2_trait1': 'max',\n",
        "    'rater2_trait2': 'max',\n",
        "    'rater2_trait5': 'max',\n",
        "    'rater2_trait6': 'max',\n",
        "    'rater1_domain1': 'max',\n",
        "    'rater2_domain1': 'max',\n",
        "    'domain1_score': 'max'\n",
        "}).reset_index()\n",
        "\n",
        "print(aggregated_scores_set8.head())\n",
        "\n",
        "\n",
        "\n"
      ],
      "metadata": {
        "colab": {
          "base_uri": "https://localhost:8080/"
        },
        "id": "zzU9VaypVyWq",
        "outputId": "7c177d5d-61c1-418f-b0b4-576ea46a92fc"
      },
      "execution_count": 65,
      "outputs": [
        {
          "output_type": "stream",
          "name": "stdout",
          "text": [
            "   essay_id  essay_set  rater1_trait1  rater1_trait2  rater1_trait5  \\\n",
            "0     20717          8            5.0            4.0            4.0   \n",
            "1     20721          8            3.0            2.0            2.0   \n",
            "2     20737          8            4.0            4.0            4.0   \n",
            "3     20745          8            3.0            4.0            3.0   \n",
            "4     20748          8            4.0            4.0            3.0   \n",
            "\n",
            "   rater1_trait6  rater2_trait1  rater2_trait2  rater2_trait5  rater2_trait6  \\\n",
            "0            4.0            6.0            5.0            5.0            5.0   \n",
            "1            2.0            3.0            3.0            3.0            3.0   \n",
            "2            4.0            4.0            4.0            4.0            4.0   \n",
            "3            3.0            4.0            4.0            4.0            3.0   \n",
            "4            4.0            4.0            4.0            3.0            3.0   \n",
            "\n",
            "   rater1_domain1  rater2_domain1  domain1_score  \n",
            "0            21.0            26.0           46.0  \n",
            "1            11.0            15.0           26.0  \n",
            "2            20.0            20.0           40.0  \n",
            "3            16.0            18.0           34.0  \n",
            "4            19.0            17.0           36.0  \n"
          ]
        }
      ]
    },
    {
      "cell_type": "code",
      "source": [
        "# Renaming for clarity\n",
        "pivot_df.rename(columns={\n",
        "    'score_type_rater1_trait1': 'predicted_rater1_trait1',\n",
        "    'score_type_rater1_trait2': 'predicted_rater1_trait2',\n",
        "    'score_type_rater1_trait5': 'predicted_rater1_trait5',\n",
        "    'score_type_rater1_trait6': 'predicted_rater1_trait6',\n",
        "    'score_type_rater2_trait1': 'predicted_rater2_trait1',\n",
        "    'score_type_rater2_trait2': 'predicted_rater2_trait2',\n",
        "    'score_type_rater2_trait5': 'predicted_rater2_trait5',\n",
        "    'score_type_rater2_trait6': 'predicted_rater2_trait6'\n",
        "}, inplace=True)\n"
      ],
      "metadata": {
        "id": "2gJqupsQcgxb"
      },
      "execution_count": 66,
      "outputs": []
    },
    {
      "cell_type": "code",
      "source": [
        "# Merging the actual and predicted scores\n",
        "final_scores_set8 = pd.merge(aggregated_scores_set8, pivot_df, on='essay_id', how='left')"
      ],
      "metadata": {
        "id": "xGmPrOpHVya6"
      },
      "execution_count": 67,
      "outputs": []
    },
    {
      "cell_type": "markdown",
      "source": [
        "The function to calculate QWK from earlier needs ever so slight modifications. It's pasted below and traits 3 and 4 are replaced with 5 and 6."
      ],
      "metadata": {
        "id": "aRxc47BEQzfP"
      }
    },
    {
      "cell_type": "code",
      "source": [
        "def calculate_qwk_scores8(pairs):\n",
        "    results = {}\n",
        "    for actual, predicted in pairs:\n",
        "        score = cohen_kappa_score(\n",
        "            final_scores_set8[actual],\n",
        "            final_scores_set8[predicted],\n",
        "            weights='quadratic'\n",
        "        )\n",
        "        results[f'QWK between {actual} and {predicted}'] = score\n",
        "    return results\n",
        "\n",
        "# Traits and their predictions for raters 1 and 2, ensuring the actual trait names are used\n",
        "trait_pairs = [\n",
        "    ('rater1_trait1', 'predicted_rater1_trait1'),\n",
        "    ('rater1_trait2', 'predicted_rater1_trait2'),\n",
        "    ('rater1_trait5', 'predicted_rater1_trait5'),\n",
        "    ('rater1_trait6', 'predicted_rater1_trait6'),\n",
        "    ('rater2_trait1', 'predicted_rater2_trait1'),\n",
        "    ('rater2_trait2', 'predicted_rater2_trait2'),\n",
        "    ('rater2_trait5', 'predicted_rater2_trait5'),\n",
        "    ('rater2_trait6', 'predicted_rater2_trait6'),\n",
        "    ('rater1_domain1', 'predicted_rater1'),\n",
        "    ('rater2_domain1', 'predicted_rater2'),\n",
        "    ('domain1_score', 'predicted_final_resolved')\n",
        "]\n",
        "results = calculate_qwk_scores8(trait_pairs)\n",
        "\n",
        "# Also want to compare the two raters\n",
        "rater_comparison_pairs = [\n",
        "    ('rater1_trait1', 'rater2_trait1'),\n",
        "    ('rater1_trait2', 'rater2_trait2'),\n",
        "    ('rater1_trait5', 'rater2_trait5'),\n",
        "    ('rater1_trait6', 'rater2_trait6'),\n",
        "    ('rater1_domain1', 'rater2_domain1')\n",
        "]\n",
        "\n",
        "rater_results = calculate_qwk_scores8(rater_comparison_pairs)\n",
        "\n",
        "# Combine two dictionaries, print\n",
        "all_results = {**results, **rater_results}\n",
        "for key, value in all_results.items():\n",
        "    print(f\"{key}: {value:.3f}\")\n"
      ],
      "metadata": {
        "colab": {
          "base_uri": "https://localhost:8080/"
        },
        "id": "CTA-eoZlCAah",
        "outputId": "8dafa142-c98c-412e-80eb-706a13b547e0"
      },
      "execution_count": 68,
      "outputs": [
        {
          "output_type": "stream",
          "name": "stdout",
          "text": [
            "QWK between rater1_trait1 and predicted_rater1_trait1: 0.492\n",
            "QWK between rater1_trait2 and predicted_rater1_trait2: 0.532\n",
            "QWK between rater1_trait5 and predicted_rater1_trait5: 0.591\n",
            "QWK between rater1_trait6 and predicted_rater1_trait6: 0.548\n",
            "QWK between rater2_trait1 and predicted_rater2_trait1: 0.363\n",
            "QWK between rater2_trait2 and predicted_rater2_trait2: 0.470\n",
            "QWK between rater2_trait5 and predicted_rater2_trait5: 0.328\n",
            "QWK between rater2_trait6 and predicted_rater2_trait6: 0.355\n",
            "QWK between rater1_domain1 and predicted_rater1: 0.701\n",
            "QWK between rater2_domain1 and predicted_rater2: 0.487\n",
            "QWK between domain1_score and predicted_final_resolved: 0.664\n",
            "QWK between rater1_trait1 and rater2_trait1: 0.515\n",
            "QWK between rater1_trait2 and rater2_trait2: 0.543\n",
            "QWK between rater1_trait5 and rater2_trait5: 0.509\n",
            "QWK between rater1_trait6 and rater2_trait6: 0.483\n",
            "QWK between rater1_domain1 and rater2_domain1: 0.624\n"
          ]
        }
      ]
    },
    {
      "cell_type": "code",
      "source": [],
      "metadata": {
        "id": "kg5Pcl24rRC1"
      },
      "execution_count": 68,
      "outputs": []
    },
    {
      "cell_type": "markdown",
      "source": [
        "A histogram for 8 will now be plotted. Because the range of possible scores is large, let's see what range we actually need to plot."
      ],
      "metadata": {
        "id": "lv3_I6f6rRz5"
      }
    },
    {
      "cell_type": "code",
      "source": [
        "print(final_scores_set8['domain1_score'].min())\n",
        "print(final_scores_set8['domain1_score'].max())\n",
        "print(final_scores_set8['predicted_final_resolved'].min())\n",
        "print(final_scores_set8['predicted_final_resolved'].max())"
      ],
      "metadata": {
        "colab": {
          "base_uri": "https://localhost:8080/"
        },
        "id": "qM_GEuUgrZIk",
        "outputId": "0a39f049-03b7-4ea2-ab1c-2e944e9aff62"
      },
      "execution_count": 69,
      "outputs": [
        {
          "output_type": "stream",
          "name": "stdout",
          "text": [
            "20.0\n",
            "47.0\n",
            "30\n",
            "46\n"
          ]
        }
      ]
    },
    {
      "cell_type": "code",
      "source": [
        "# Histogram for 8 - plotting from 20 to 47\n",
        "actual_scores = final_scores_set8['domain1_score'].astype(int)\n",
        "predicted_scores = final_scores_set8['predicted_final_resolved'].astype(int)\n",
        "\n",
        "# Being explicit to include 20 through 47\n",
        "actual_counts = np.bincount(actual_scores, minlength=48)[20:48]\n",
        "predicted_counts = np.bincount(predicted_scores, minlength=48)[20:48]\n",
        "\n",
        "score_labels = np.arange(20, 48)\n",
        "\n",
        "# Plot histogram\n",
        "plt.figure(figsize=(10, 6))\n",
        "ax = plt.axes()\n",
        "\n",
        "plt.bar(score_labels - 0.15, actual_counts, width=0.3, label='Actual Scores', color='blue', align='center')\n",
        "plt.bar(score_labels + 0.15, predicted_counts, width=0.3, label='Predicted Scores', color='orange', align='center')\n",
        "\n",
        "plt.xlabel('Scores')\n",
        "plt.ylabel('Frequency')\n",
        "plt.title('Actual vs. Predicted Scores for Essay Set 8')\n",
        "plt.xticks(score_labels)\n",
        "plt.legend()\n",
        "plt.grid(True, axis='y')\n",
        "\n",
        "ax.spines['top'].set_visible(False)\n",
        "ax.spines['right'].set_visible(False)\n",
        "\n",
        "ax.set_axisbelow(True) # So that the lines don't cut through the bars\n",
        "plt.show()\n",
        "\n",
        "\n",
        "\n"
      ],
      "metadata": {
        "colab": {
          "base_uri": "https://localhost:8080/",
          "height": 564
        },
        "id": "0xjv0bamrHPp",
        "outputId": "85bcf8d4-151b-4c8b-ba58-4d0d3b94cfa8"
      },
      "execution_count": 70,
      "outputs": [
        {
          "output_type": "display_data",
          "data": {
            "text/plain": [
              "<Figure size 1000x600 with 1 Axes>"
            ],
            "image/png": "[encoded data removed]"
          },
          "metadata": {}
        }
      ]
    },
    {
      "cell_type": "code",
      "source": [
        "# Printing confusion matrix\n",
        "print_confusion_matrix(\n",
        "    final_scores_set8['domain1_score'],\n",
        "    final_scores_set8['predicted_final_resolved'],\n",
        "    \"Essay Set 8\", \"Performance\"\n",
        ")"
      ],
      "metadata": {
        "colab": {
          "base_uri": "https://localhost:8080/"
        },
        "id": "93BfHdJ4CAc8",
        "outputId": "e606b04a-4a95-4841-bf51-947108faec83"
      },
      "execution_count": 71,
      "outputs": [
        {
          "output_type": "stream",
          "name": "stdout",
          "text": [
            "Confusion Matrix for Performance in Essay Set 8:\n",
            "[[ 0  0  0  0  1  0  0  0  0  0  0  0  0  0  0  0  0  0  0  0  0  0]\n",
            " [ 0  0  0  0  1  0  0  0  0  0  0  0  0  0  0  0  0  0  0  0  0  0]\n",
            " [ 0  0  0  0  3  0  0  0  0  0  0  0  0  0  0  0  0  0  0  0  0  0]\n",
            " [ 0  0  0  0  1  0  0  0  0  0  0  0  0  0  0  0  0  0  0  0  0  0]\n",
            " [ 0  0  0  0  2  0  0  0  1  0  0  0  0  0  0  0  0  0  0  0  0  0]\n",
            " [ 0  0  0  0  1  0  0  0  0  0  2  0  0  0  1  0  0  0  0  0  0  0]\n",
            " [ 0  0  0  0  7  0  1  0  1  0  0  0  0  0  1  0  0  0  0  0  0  0]\n",
            " [ 0  0  0  0  2  0  1  0  0  0  1  0  0  0  1  0  0  0  0  0  0  0]\n",
            " [ 0  0  0  0  2  0  0  0  0  0  0  0  0  0  2  0  0  0  0  0  0  0]\n",
            " [ 0  0  0  0  1  0  0  0  0  0  5  0  0  0  4  0  0  0  0  0  0  0]\n",
            " [ 0  0  0  0  0  0  0  0  1  0  4  0  0  0  5  0  0  0  0  0  0  0]\n",
            " [ 0  0  0  0  1  0  0  0  2  0  0  0  0  0  1  0  0  0  0  0  0  0]\n",
            " [ 0  0  0  0  0  0  0  0  0  0  0  0  0  0  2  0  0  0  0  0  0  0]\n",
            " [ 0  0  0  0  0  0  0  0  0  0  0  0  0  0  1  0  0  0  0  0  0  0]\n",
            " [ 0  0  0  0  2  0  0  0  1  0  8  0  0  0 22  0  1  0  0  0  0  0]\n",
            " [ 0  0  0  0  0  0  0  0  0  0  1  0  0  0  1  0  0  0  1  0  0  0]\n",
            " [ 0  0  0  0  0  0  0  0  0  0  0  0  0  0  1  0  0  0  0  0  0  0]\n",
            " [ 0  0  0  0  0  0  0  0  0  0  1  0  0  0  1  0  0  0  0  0  1  0]\n",
            " [ 0  0  0  0  0  0  0  0  0  0  0  0  0  0  1  0  0  0  0  0  0  0]\n",
            " [ 0  0  0  0  0  0  0  0  0  0  0  0  0  0  0  0  1  0  0  0  1  0]\n",
            " [ 0  0  0  0  0  0  0  0  0  0  0  0  0  0  4  0  0  0  0  0  0  0]\n",
            " [ 0  0  0  0  0  0  0  0  0  0  0  0  0  0  1  0  0  0  0  0  0  0]]\n",
            "\n",
            "\n"
          ]
        }
      ]
    },
    {
      "cell_type": "markdown",
      "source": [
        "Scoring is now complete and will be analyzed in the written piece."
      ],
      "metadata": {
        "id": "zEVmtqCDSrNZ"
      }
    }
  ]
}